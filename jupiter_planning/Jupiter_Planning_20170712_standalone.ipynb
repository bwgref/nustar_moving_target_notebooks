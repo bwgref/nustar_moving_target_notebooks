{
 "cells": [
  {
   "cell_type": "markdown",
   "metadata": {},
   "source": [
    "# Note, this *only* works for observing things in the future. Dealing with the pointing corrections in the analysis is not supported here.\n",
    "\n",
    "\n",
    "\n"
   ]
  },
  {
   "cell_type": "markdown",
   "metadata": {},
   "source": [
    "# First thing to do, make a copy of this notebook under File->Make a Copy\n",
    "\n",
    "\n",
    "---"
   ]
  },
  {
   "cell_type": "markdown",
   "metadata": {},
   "source": [
    "# Set your observing times here.\n",
    "\n",
    "## NB: This will be a broader window that you'll actually use. The final output will give you orbit-by-orbit pointing information. So you can use a subset of the orbits that are chosen here."
   ]
  },
  {
   "cell_type": "code",
   "execution_count": null,
   "metadata": {
    "collapsed": false
   },
   "outputs": [],
   "source": [
    "from datetime import datetime\n",
    "tstart = '2017-07-17T00:00:00'\n",
    "tend = '2017-07-19T00:00:00'\n",
    " \n",
    "# Turn these into datetime objects\n",
    "\n",
    "tstart = datetime.strptime(tstart, '%Y-%m-%dT%H:%M:%S')\n",
    "tend = datetime.strptime(tend, '%Y-%m-%dT%H:%M:%S')                "
   ]
  },
  {
   "cell_type": "markdown",
   "metadata": {},
   "source": [
    "---\n",
    "# Step 1, get the nominal RA/Dec Position for Jupiter at the start.\n",
    "\n",
    "## We use this to determine what the occultation times are."
   ]
  },
  {
   "cell_type": "code",
   "execution_count": null,
   "metadata": {
    "collapsed": false
   },
   "outputs": [],
   "source": [
    "from skyfield.api import Loader\n",
    "from astropy.time import Time\n",
    "import astropy.units as u\n",
    "\n",
    "load = Loader('../../data')\n",
    "\n",
    "ts = load.timescale()\n",
    "planets = load('jup310.bsp')\n",
    "\n",
    "astro_time = Time(tstart)\n",
    "t = ts.from_astropy(astro_time)\n",
    "jupiter, earth = planets['jupiter'], planets['earth']\n",
    "astrometric = earth.at(t).observe(jupiter)\n",
    "ra, dec, distance = astrometric.radec()\n",
    "\n",
    "\n",
    "occstring = \"./occ {0:0.4f} {1:0.4f} Latest_TLE.txt {2}:{3}:00:00:00 {4}:{5}:00:00:00 jupiter_{3}_{5}.occ\".format(\n",
    "      ra.to(u.deg).value, dec.to(u.deg).value,\n",
    "      tstart.timetuple().tm_year, tstart.timetuple().tm_yday, \n",
    "      tend.timetuple().tm_year, tend.timetuple().tm_yday)\n",
    "\n",
    "\n",
    "outfile = '../orbit_engine/jupiter_{0}to{1}.sh'.format(tstart.timetuple().tm_yday, tend.timetuple().tm_yday)\n",
    "print(outfile)\n",
    "\n",
    "f = open(outfile, 'w')\n",
    "f.write(occstring)\n",
    "f.close()\n",
    "\n",
    "\n",
    "import os\n",
    "import stat\n",
    "\n",
    "st = os.stat(outfile)\n",
    "os.chmod(outfile, st.st_mode | stat.S_IEXEC)\n",
    "\n"
   ]
  },
  {
   "cell_type": "markdown",
   "metadata": {},
   "source": [
    "---\n",
    "# Step 2: Go run the code that figures out the unocculted periods for the RA/Dec and the date range reported above.\n",
    "\n",
    "This works on lif. There are example shell scripts in the ../orbit_engine directory that use the version that Karl already compiled for the nuops users.\n",
    "\n",
    "First, get the latest TLE archive:\n",
    "\n",
    "`./get_latest_TLE.sh`\n",
    "\n",
    "Run the script that was produced above.\n"
   ]
  },
  {
   "cell_type": "markdown",
   "metadata": {},
   "source": [
    "# Step 3: Initialize your libraries and parse the resulting occultation file:\n"
   ]
  },
  {
   "cell_type": "code",
   "execution_count": null,
   "metadata": {
    "collapsed": false
   },
   "outputs": [],
   "source": [
    "from nustar_planning import io\n",
    "occfile= \"../orbit_engine/jupiter_{0}_{1}.occ\".format(tstart.timetuple().tm_yday,tend.timetuple().tm_yday )\n",
    "\n",
    "orbits = io.parse_occ(occfile)\n",
    "\n",
    "# NB: The \"head\" command here only shows the first couple of rows. Do a \"print(orbits)\" to see them all.\n",
    "orbits.head()\n"
   ]
  },
  {
   "cell_type": "markdown",
   "metadata": {},
   "source": [
    "# Use SkyField to get the location of Jupiter for each orbit:\n",
    "\n",
    "This puts the output into the provided text file. This shows the *aim* time that was used to determine the pointing. You should slew while the source is occulted."
   ]
  },
  {
   "cell_type": "code",
   "execution_count": null,
   "metadata": {
    "collapsed": false,
    "scrolled": true
   },
   "outputs": [],
   "source": [
    "from nustar_planning import jupiter_planning\n",
    "from imp import reload\n",
    "outfile = 'jupiter_{0}_{1}_pointing.txt'.format(tstart.timetuple().tm_yday,tend.timetuple().tm_yday )\n",
    "jupiter_planning.position(orbits, load_path ='../../data',\n",
    "                 parallax_correction=True,\n",
    "                 outfile=outfile)\n",
    "print(\"Output is stored in: {}\".format(outfile))"
   ]
  },
  {
   "cell_type": "code",
   "execution_count": null,
   "metadata": {
    "collapsed": true
   },
   "outputs": [],
   "source": []
  }
 ],
 "metadata": {
  "anaconda-cloud": {},
  "kernelspec": {
   "display_name": "Python [default]",
   "language": "python",
   "name": "python3"
  },
  "language_info": {
   "codemirror_mode": {
    "name": "ipython",
    "version": 3
   },
   "file_extension": ".py",
   "mimetype": "text/x-python",
   "name": "python",
   "nbconvert_exporter": "python",
   "pygments_lexer": "ipython3",
   "version": "3.5.1"
  }
 },
 "nbformat": 4,
 "nbformat_minor": 2
}
