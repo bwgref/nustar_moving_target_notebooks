{
 "cells": [
  {
   "cell_type": "markdown",
   "metadata": {},
   "source": [
    "# First thing to do, make a copy of this notebook under File->Make a Copy with some intelligent naming convention.\n",
    "\n",
    "---"
   ]
  },
  {
   "cell_type": "markdown",
   "metadata": {},
   "source": [
    "# Set your observing times here.\n",
    "\n",
    "## NB: This will be a broader window that you'll actually use. The final output will give you orbit-by-orbit pointing information. So you can use a subset of the orbits that are chosen here."
   ]
  },
  {
   "cell_type": "code",
   "execution_count": 2,
   "metadata": {
    "collapsed": false
   },
   "outputs": [],
   "source": [
    "from datetime import datetime\n",
    "\n",
    "# Note that tstart and tend should span for at least one day because of the way the scripts are written.\n",
    "tstart = '2018-01-12T00:00:00'\n",
    "tend = '2018-01-13T00:00:00'\n",
    "\n",
    "ttarget = '2018-01-12T21:54:00'\n",
    "# Turn these into datetime objects\n",
    "\n",
    "tstart = datetime.strptime(tstart, '%Y-%m-%dT%H:%M:%S')\n",
    "tend = datetime.strptime(tend, '%Y-%m-%dT%H:%M:%S')\n",
    "ttarget = datetime.strptime(ttarget,'%Y-%m-%dT%H:%M:%S')\n",
    "\n"
   ]
  },
  {
   "cell_type": "markdown",
   "metadata": {},
   "source": [
    "---\n",
    "# Step 1, get the nominal RA/Dec Position for the Moon at the nominal target time\n",
    "\n",
    "## We use this to determine what the occultation times are."
   ]
  },
  {
   "cell_type": "code",
   "execution_count": 3,
   "metadata": {
    "collapsed": false
   },
   "outputs": [
    {
     "name": "stdout",
     "output_type": "stream",
     "text": [
      "../orbit_engine/lunar_12to13.sh\n"
     ]
    }
   ],
   "source": [
    "from skyfield.api import Loader\n",
    "from astropy.time import Time\n",
    "import astropy.units as u\n",
    "\n",
    "load = Loader('../../data')\n",
    "\n",
    "ts = load.timescale()\n",
    "planets = load('de436.bsp')\n",
    "\n",
    "astro_time = Time(ttarget)\n",
    "t = ts.from_astropy(astro_time)\n",
    "moon, earth = planets['moon'], planets['earth']\n",
    "astrometric = earth.at(t).observe(moon)\n",
    "ra, dec, distance = astrometric.radec()\n",
    "\n",
    "\n",
    "occstring = \"./occ {0:0.4f} {1:0.4f} Latest_TLE.txt {2}:{3:03d}:00:00:00 {4}:{5:03d}:00:00:00 lunar_{3}_{5}.occ\".format(\n",
    "      ra.to(u.deg).value, dec.to(u.deg).value,\n",
    "      tstart.timetuple().tm_year, tstart.timetuple().tm_yday, \n",
    "      tend.timetuple().tm_year, tend.timetuple().tm_yday)\n",
    "\n",
    "\n",
    "outfile = '../orbit_engine/lunar_{0}to{1}.sh'.format(tstart.timetuple().tm_yday, tend.timetuple().tm_yday)\n",
    "print(outfile)\n",
    "\n",
    "f = open(outfile, 'w')\n",
    "f.write(occstring)\n",
    "f.close()\n",
    "\n",
    "\n",
    "import os\n",
    "import stat\n",
    "\n",
    "st = os.stat(outfile)\n",
    "os.chmod(outfile, st.st_mode | stat.S_IEXEC)\n",
    "\n"
   ]
  },
  {
   "cell_type": "markdown",
   "metadata": {},
   "source": [
    "---\n",
    "# Step 2, get the PA position \n",
    "\n",
    "## We use this to figure out how to offset the FoV for the Moon"
   ]
  },
  {
   "cell_type": "code",
   "execution_count": 4,
   "metadata": {
    "collapsed": false
   },
   "outputs": [
    {
     "name": "stdout",
     "output_type": "stream",
     "text": [
      "../orbit_engine/lunar_12to13_pa.sh\n"
     ]
    }
   ],
   "source": [
    "\n",
    "pastring = \"./att2pa {0} {1} {2} -5 > lunar_{3}_{4}.pa\".format(\n",
    "    ttarget.strftime('%Y:%j:%H:%M:%S'),\n",
    "    ra.to(u.deg).value, dec.to(u.deg).value,\n",
    "    tstart.timetuple().tm_yday, tend.timetuple().tm_yday)\n",
    "outfile = '../orbit_engine/lunar_{0}to{1}_pa.sh'.format(tstart.timetuple().tm_yday, tend.timetuple().tm_yday)\n",
    "print(outfile)\n",
    "\n",
    "f = open(outfile, 'w')\n",
    "f.write(pastring)\n",
    "f.close()\n",
    "\n",
    "\n",
    "import os\n",
    "import stat\n",
    "\n",
    "st = os.stat(outfile)\n",
    "os.chmod(outfile, st.st_mode | stat.S_IEXEC)\n"
   ]
  },
  {
   "cell_type": "markdown",
   "metadata": {},
   "source": [
    "---\n",
    "# Step 2: Go run the code that figures out the unocculted periods for the RA/Dec and the date range reported above.\n",
    "\n",
    "This works on lif. There are example shell scripts in the ../orbit_engine directory that use the version that Karl already compiled for the nuops users.\n",
    "\n",
    "First, get the latest TLE archive:\n",
    "\n",
    "`./get_latest_TLE.sh`\n",
    "\n",
    "Run the script that was produced to produce the occultation files:\n",
    "\n",
    "`./lunar_225to226.sh`\n",
    "\n",
    "...and the one to get the PA position. **Remember that this is the MPS PA angle, so the SKY PA = 180 - MPA_PA. However, the code in nsutar_planning.io knows how to fix this and will return SKY PA values.**\n",
    "\n",
    "`./lunar_225to226_pa.sh`\n",
    "\n",
    "Check in the resulting output files in to github if you're working remotely.\n",
    "\n",
    "`git add lunar_225to226.occ lunar_225to226.pa`\n",
    "\n",
    "`git commit -m \"Files for days 225-226\"`\n",
    "\n",
    "`git push`\n",
    "\n",
    "Then pull this down to your local environment and continue below.\n"
   ]
  },
  {
   "cell_type": "markdown",
   "metadata": {},
   "source": [
    "# Step 3: Initialize your libraries and parse the resulting occultation file:\n"
   ]
  },
  {
   "cell_type": "code",
   "execution_count": 5,
   "metadata": {
    "collapsed": false
   },
   "outputs": [
    {
     "name": "stdout",
     "output_type": "stream",
     "text": [
      "SKY PA angle:  169.081036\n"
     ]
    }
   ],
   "source": [
    "from nustar_planning import io\n",
    "occfile= \"../orbit_engine/lunar_{0}_{1}.occ\".format(tstart.timetuple().tm_yday,tend.timetuple().tm_yday )\n",
    "pafile= \"../orbit_engine/lunar_{0}_{1}.pa\".format(tstart.timetuple().tm_yday,tend.timetuple().tm_yday )\n",
    "\n",
    "orbits = io.parse_occ(occfile)\n",
    "sky_pa = io.parse_pa(pafile)\n",
    "\n",
    "\n",
    "# NB: The \"head\" command here only shows the first couple of rows. Do a \"print(orbits)\" to see them all.\n",
    "orbits.head()\n",
    "print('SKY PA angle: ', sky_pa)"
   ]
  },
  {
   "cell_type": "markdown",
   "metadata": {},
   "source": [
    "# Use SkyField to get the location of the Moon for each orbit:\n",
    "\n",
    "This puts the output into the provided text file. This shows the *aim* time that was used to determine the pointing. You should slew while the source is occulted."
   ]
  },
  {
   "cell_type": "code",
   "execution_count": 7,
   "metadata": {
    "collapsed": false
   },
   "outputs": [
    {
     "name": "stdout",
     "output_type": "stream",
     "text": [
      "Aim Time            RA         Dec\n",
      "2018-01-12T21:54:50 247.14584  -16.53040\n",
      "2018-01-12T22:06:04.600000 247.20126  -16.77901\n",
      "2018-01-12T22:17:19.200000 246.77066  -17.00762\n",
      "2018-01-12T22:28:33.800000 246.12055  -17.10179\n",
      "2018-01-12T22:39:48.400000 245.64664  -17.02018\n"
     ]
    }
   ],
   "source": [
    "# Sanity check. Use this block to figure out which orbit(s) in the occultation file you want to use\n",
    "\n",
    "import nustar_planning.lunar_planning as lunar_planning\n",
    "from importlib import reload\n",
    "reload(lunar_planning)\n",
    "sub = orbits.iloc[13:14].reset_index()\n",
    "lunar_planning.position(sub, steps = 5, parallax_correction=True, load_path ='../../data')"
   ]
  },
  {
   "cell_type": "code",
   "execution_count": 8,
   "metadata": {
    "collapsed": false,
    "scrolled": true
   },
   "outputs": [
    {
     "name": "stdout",
     "output_type": "stream",
     "text": [
      "Output is stored in: lunar_12_13_pointing_v2.txt\n"
     ]
    }
   ],
   "source": [
    "# PA == sky_pa from above, Rmoon = 940 arcseconds (default), 6 arcminutes maximum drift (default) and\n",
    "# no minimum dwell period (default)\n",
    "\n",
    "# Note, this takes a few minutes to run!\n",
    "\n",
    "outfile = 'lunar_{0}_{1}_pointing_v2.txt'.format(tstart.timetuple().tm_yday,tend.timetuple().tm_yday )\n",
    "\n",
    "reload(lunar_planning)\n",
    "lunar_planning.position_shift(sub, parallax_correction=True, pa = sky_pa*u.deg, dt = 3*u.s,\n",
    "                              outfile=outfile, load_path ='../../data')\n",
    "print(\"Output is stored in: {}\".format(outfile))"
   ]
  },
  {
   "cell_type": "code",
   "execution_count": null,
   "metadata": {
    "collapsed": true
   },
   "outputs": [],
   "source": []
  }
 ],
 "metadata": {
  "anaconda-cloud": {},
  "kernelspec": {
   "display_name": "Python [default]",
   "language": "python",
   "name": "python3"
  },
  "language_info": {
   "codemirror_mode": {
    "name": "ipython",
    "version": 3
   },
   "file_extension": ".py",
   "mimetype": "text/x-python",
   "name": "python",
   "nbconvert_exporter": "python",
   "pygments_lexer": "ipython3",
   "version": "3.5.2"
  }
 },
 "nbformat": 4,
 "nbformat_minor": 2
}
