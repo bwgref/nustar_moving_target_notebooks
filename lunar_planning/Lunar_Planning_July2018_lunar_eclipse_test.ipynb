{
 "cells": [
  {
   "cell_type": "markdown",
   "metadata": {},
   "source": [
    "# First thing to do, make a copy of this notebook under File->Make a Copy with some intelligent naming convention.\n",
    "\n",
    "---"
   ]
  },
  {
   "cell_type": "markdown",
   "metadata": {},
   "source": [
    "# Set your observing times here.\n",
    "\n",
    "## NB: This will be a broader window that you'll actually use. The final output will give you orbit-by-orbit pointing information. So you can use a subset of the orbits that are chosen here."
   ]
  },
  {
   "cell_type": "code",
   "execution_count": 1,
   "metadata": {
    "collapsed": false
   },
   "outputs": [],
   "source": [
    "from datetime import datetime\n",
    "\n",
    "# Note that tstart and tend should span for at least one day because of the way the scripts are written.\n",
    "tstart = '2018-07-27T00:00:00'\n",
    "tend = '2018-07-28T00:00:00'\n",
    "\n",
    "ttarget = '2018-07-27T20:21:00'\n",
    "# Turn these into datetime objects\n",
    "\n",
    "tstart = datetime.strptime(tstart, '%Y-%m-%dT%H:%M:%S')\n",
    "tend = datetime.strptime(tend, '%Y-%m-%dT%H:%M:%S')\n",
    "ttarget = datetime.strptime(ttarget,'%Y-%m-%dT%H:%M:%S')\n",
    "\n"
   ]
  },
  {
   "cell_type": "markdown",
   "metadata": {},
   "source": [
    "---\n",
    "# Step 1, get the nominal RA/Dec Position for the Moon at the nominal target time\n",
    "\n",
    "## We use this to determine what the occultation times are."
   ]
  },
  {
   "cell_type": "code",
   "execution_count": 2,
   "metadata": {
    "collapsed": false
   },
   "outputs": [],
   "source": [
    "from skyfield.api import Loader\n",
    "from astropy.time import Time\n",
    "import astropy.units as u\n",
    "\n",
    "load = Loader('../../data')\n",
    "\n",
    "ts = load.timescale()\n",
    "planets = load('de436.bsp')\n",
    "\n",
    "astro_time = Time(ttarget)\n",
    "t = ts.from_astropy(astro_time)\n",
    "moon, earth = planets['moon'], planets['earth']\n",
    "astrometric = earth.at(t).observe(moon)\n",
    "ra, dec, distance = astrometric.radec()"
   ]
  },
  {
   "cell_type": "code",
   "execution_count": 3,
   "metadata": {
    "collapsed": false
   },
   "outputs": [
    {
     "data": {
      "text/plain": [
       "209"
      ]
     },
     "execution_count": 3,
     "metadata": {},
     "output_type": "execute_result"
    }
   ],
   "source": [
    "tend.timetuple().tm_yday"
   ]
  },
  {
   "cell_type": "code",
   "execution_count": 4,
   "metadata": {
    "collapsed": false
   },
   "outputs": [
    {
     "name": "stdout",
     "output_type": "stream",
     "text": [
      "../orbit_engine/lunar_208to209.sh\n"
     ]
    }
   ],
   "source": [
    "occstring = \"./occ {0:0.4f} {1:0.4f} Latest_TLE.txt {2}:{3:03d}:00:00:00 {4}:{5:03d}::00:00 lunar_{3}_{5}.occ\".format(\n",
    "      ra.to(u.deg).value, dec.to(u.deg).value,\n",
    "      tstart.timetuple().tm_year, tstart.timetuple().tm_yday,    \n",
    "      tend.timetuple().tm_year, tend.timetuple().tm_yday)\n",
    "\n",
    "\n",
    "outfile = '../orbit_engine/lunar_{0}to{1}.sh'.format(tstart.timetuple().tm_yday, tend.timetuple().tm_yday)\n",
    "print(outfile)\n",
    "\n",
    "f = open(outfile, 'w')\n",
    "f.write(occstring)\n",
    "f.close()\n",
    "\n",
    "\n",
    "import os\n",
    "import stat\n",
    "\n",
    "st = os.stat(outfile)\n",
    "os.chmod(outfile, st.st_mode | stat.S_IEXEC)"
   ]
  },
  {
   "cell_type": "markdown",
   "metadata": {},
   "source": [
    "---\n",
    "# Step 2, get the PA position \n",
    "\n",
    "## We use this to figure out how to offset the FoV for the Moon"
   ]
  },
  {
   "cell_type": "code",
   "execution_count": 5,
   "metadata": {
    "collapsed": false
   },
   "outputs": [
    {
     "name": "stdout",
     "output_type": "stream",
     "text": [
      "../orbit_engine/lunar_208to209_pa.sh\n"
     ]
    }
   ],
   "source": [
    "\n",
    "pastring = \"./att2pa {0} {1} {2} -5 > lunar_{3}_{4}.pa\".format(\n",
    "    ttarget.strftime('%Y:%j:%H:%M:%S'),\n",
    "    ra.to(u.deg).value, dec.to(u.deg).value,\n",
    "    tstart.timetuple().tm_yday, tend.timetuple().tm_yday)\n",
    "outfile = '../orbit_engine/lunar_{0}to{1}_pa.sh'.format(tstart.timetuple().tm_yday, tend.timetuple().tm_yday)\n",
    "print(outfile)\n",
    "\n",
    "f = open(outfile, 'w')\n",
    "f.write(pastring)\n",
    "f.close()\n",
    "\n",
    "\n",
    "import os\n",
    "import stat\n",
    "\n",
    "st = os.stat(outfile)\n",
    "os.chmod(outfile, st.st_mode | stat.S_IEXEC)\n"
   ]
  },
  {
   "cell_type": "markdown",
   "metadata": {},
   "source": [
    "---\n",
    "# Step 2: Go run the code that figures out the unocculted periods for the RA/Dec and the date range reported above.\n",
    "\n",
    "This works on lif. There are example shell scripts in the ../orbit_engine directory that use the version that Karl already compiled for the nuops users.\n",
    "\n",
    "First, get the latest TLE archive:\n",
    "\n",
    "`./get_latest_TLE.sh`\n",
    "\n",
    "Run the script that was produced to produce the occultation files:\n",
    "\n",
    "`./lunar_225to226.sh`\n",
    "\n",
    "...and the one to get the PA position. **Remember that this is the MPS PA angle, so the SKY PA = 180 - MPA_PA. However, the code in nsutar_planning.io knows how to fix this and will return SKY PA values.**\n",
    "\n",
    "`./lunar_225to226_pa.sh`\n",
    "\n",
    "Check in the resulting output files in to github if you're working remotely.\n",
    "\n",
    "`git add lunar_225to226.occ lunar_225to226.pa`\n",
    "\n",
    "`git commit -m \"Files for days 225-226\"`\n",
    "\n",
    "`git push`\n",
    "\n",
    "Then pull this down to your local environment and continue below.\n"
   ]
  },
  {
   "cell_type": "markdown",
   "metadata": {},
   "source": [
    "# Step 3: Initialize your libraries and parse the resulting occultation file:\n"
   ]
  },
  {
   "cell_type": "code",
   "execution_count": 6,
   "metadata": {
    "collapsed": false
   },
   "outputs": [
    {
     "name": "stdout",
     "output_type": "stream",
     "text": [
      "SKY PA angle:  46.860378999999995\n"
     ]
    },
    {
     "data": {
      "text/html": [
       "<div>\n",
       "<style>\n",
       "    .dataframe thead tr:only-child th {\n",
       "        text-align: right;\n",
       "    }\n",
       "\n",
       "    .dataframe thead th {\n",
       "        text-align: left;\n",
       "    }\n",
       "\n",
       "    .dataframe tbody tr th {\n",
       "        vertical-align: top;\n",
       "    }\n",
       "</style>\n",
       "<table border=\"1\" class=\"dataframe\">\n",
       "  <thead>\n",
       "    <tr style=\"text-align: right;\">\n",
       "      <th></th>\n",
       "      <th>visible</th>\n",
       "      <th>occulted</th>\n",
       "    </tr>\n",
       "  </thead>\n",
       "  <tbody>\n",
       "    <tr>\n",
       "      <th>0</th>\n",
       "      <td>2018-07-27 00:46:58</td>\n",
       "      <td>2018-07-27 01:43:28</td>\n",
       "    </tr>\n",
       "    <tr>\n",
       "      <th>1</th>\n",
       "      <td>2018-07-27 02:23:37</td>\n",
       "      <td>2018-07-27 03:20:07</td>\n",
       "    </tr>\n",
       "    <tr>\n",
       "      <th>2</th>\n",
       "      <td>2018-07-27 04:00:16</td>\n",
       "      <td>2018-07-27 04:56:46</td>\n",
       "    </tr>\n",
       "    <tr>\n",
       "      <th>3</th>\n",
       "      <td>2018-07-27 05:36:55</td>\n",
       "      <td>2018-07-27 06:33:25</td>\n",
       "    </tr>\n",
       "    <tr>\n",
       "      <th>4</th>\n",
       "      <td>2018-07-27 07:13:34</td>\n",
       "      <td>2018-07-27 08:10:04</td>\n",
       "    </tr>\n",
       "    <tr>\n",
       "      <th>5</th>\n",
       "      <td>2018-07-27 08:50:13</td>\n",
       "      <td>2018-07-27 09:46:43</td>\n",
       "    </tr>\n",
       "    <tr>\n",
       "      <th>6</th>\n",
       "      <td>2018-07-27 10:26:52</td>\n",
       "      <td>2018-07-27 11:23:22</td>\n",
       "    </tr>\n",
       "    <tr>\n",
       "      <th>7</th>\n",
       "      <td>2018-07-27 12:03:31</td>\n",
       "      <td>2018-07-27 13:00:01</td>\n",
       "    </tr>\n",
       "    <tr>\n",
       "      <th>8</th>\n",
       "      <td>2018-07-27 13:40:10</td>\n",
       "      <td>2018-07-27 14:36:40</td>\n",
       "    </tr>\n",
       "    <tr>\n",
       "      <th>9</th>\n",
       "      <td>2018-07-27 15:16:49</td>\n",
       "      <td>2018-07-27 16:13:19</td>\n",
       "    </tr>\n",
       "    <tr>\n",
       "      <th>10</th>\n",
       "      <td>2018-07-27 16:53:27</td>\n",
       "      <td>2018-07-27 17:49:58</td>\n",
       "    </tr>\n",
       "    <tr>\n",
       "      <th>11</th>\n",
       "      <td>2018-07-27 18:30:06</td>\n",
       "      <td>2018-07-27 19:26:37</td>\n",
       "    </tr>\n",
       "    <tr>\n",
       "      <th>12</th>\n",
       "      <td>2018-07-27 20:06:45</td>\n",
       "      <td>2018-07-27 21:03:16</td>\n",
       "    </tr>\n",
       "    <tr>\n",
       "      <th>13</th>\n",
       "      <td>2018-07-27 21:43:24</td>\n",
       "      <td>2018-07-27 22:39:55</td>\n",
       "    </tr>\n",
       "    <tr>\n",
       "      <th>14</th>\n",
       "      <td>2018-07-27 23:20:03</td>\n",
       "      <td>2018-07-28 00:16:34</td>\n",
       "    </tr>\n",
       "    <tr>\n",
       "      <th>15</th>\n",
       "      <td>2018-07-28 00:56:42</td>\n",
       "      <td>2018-07-28 01:53:13</td>\n",
       "    </tr>\n",
       "    <tr>\n",
       "      <th>16</th>\n",
       "      <td>2018-07-28 02:33:21</td>\n",
       "      <td>2018-07-28 03:29:52</td>\n",
       "    </tr>\n",
       "    <tr>\n",
       "      <th>17</th>\n",
       "      <td>2018-07-28 04:10:00</td>\n",
       "      <td>2018-07-28 05:06:31</td>\n",
       "    </tr>\n",
       "    <tr>\n",
       "      <th>18</th>\n",
       "      <td>2018-07-28 05:46:39</td>\n",
       "      <td>2018-07-28 06:43:10</td>\n",
       "    </tr>\n",
       "    <tr>\n",
       "      <th>19</th>\n",
       "      <td>2018-07-28 07:23:18</td>\n",
       "      <td>2018-07-28 08:19:49</td>\n",
       "    </tr>\n",
       "    <tr>\n",
       "      <th>20</th>\n",
       "      <td>2018-07-28 08:59:57</td>\n",
       "      <td>2018-07-28 09:56:28</td>\n",
       "    </tr>\n",
       "    <tr>\n",
       "      <th>21</th>\n",
       "      <td>2018-07-28 10:36:36</td>\n",
       "      <td>2018-07-28 11:33:07</td>\n",
       "    </tr>\n",
       "  </tbody>\n",
       "</table>\n",
       "</div>"
      ],
      "text/plain": [
       "                visible             occulted\n",
       "0   2018-07-27 00:46:58  2018-07-27 01:43:28\n",
       "1   2018-07-27 02:23:37  2018-07-27 03:20:07\n",
       "2   2018-07-27 04:00:16  2018-07-27 04:56:46\n",
       "3   2018-07-27 05:36:55  2018-07-27 06:33:25\n",
       "4   2018-07-27 07:13:34  2018-07-27 08:10:04\n",
       "5   2018-07-27 08:50:13  2018-07-27 09:46:43\n",
       "6   2018-07-27 10:26:52  2018-07-27 11:23:22\n",
       "7   2018-07-27 12:03:31  2018-07-27 13:00:01\n",
       "8   2018-07-27 13:40:10  2018-07-27 14:36:40\n",
       "9   2018-07-27 15:16:49  2018-07-27 16:13:19\n",
       "10  2018-07-27 16:53:27  2018-07-27 17:49:58\n",
       "11  2018-07-27 18:30:06  2018-07-27 19:26:37\n",
       "12  2018-07-27 20:06:45  2018-07-27 21:03:16\n",
       "13  2018-07-27 21:43:24  2018-07-27 22:39:55\n",
       "14  2018-07-27 23:20:03  2018-07-28 00:16:34\n",
       "15  2018-07-28 00:56:42  2018-07-28 01:53:13\n",
       "16  2018-07-28 02:33:21  2018-07-28 03:29:52\n",
       "17  2018-07-28 04:10:00  2018-07-28 05:06:31\n",
       "18  2018-07-28 05:46:39  2018-07-28 06:43:10\n",
       "19  2018-07-28 07:23:18  2018-07-28 08:19:49\n",
       "20  2018-07-28 08:59:57  2018-07-28 09:56:28\n",
       "21  2018-07-28 10:36:36  2018-07-28 11:33:07"
      ]
     },
     "execution_count": 6,
     "metadata": {},
     "output_type": "execute_result"
    }
   ],
   "source": [
    "from nustar_planning import io\n",
    "occfile= \"../orbit_engine/lunar_{0}_{1}.occ\".format(tstart.timetuple().tm_yday,tend.timetuple().tm_yday )\n",
    "pafile= \"../orbit_engine/lunar_{0}_{1}.pa\".format(tstart.timetuple().tm_yday,tend.timetuple().tm_yday )\n",
    "\n",
    "orbits = io.parse_occ(occfile)\n",
    "sky_pa = io.parse_pa(pafile)\n",
    "\n",
    "\n",
    "# NB: The \"head\" command here only shows the first couple of rows. Do a \"print(orbits)\" to see them all.\n",
    "orbits.head()\n",
    "print('SKY PA angle: ', sky_pa)\n",
    "orbits"
   ]
  },
  {
   "cell_type": "markdown",
   "metadata": {},
   "source": [
    "# Use SkyField to get the location of the Moon for each orbit:\n",
    "\n",
    "This puts the output into the provided text file. This shows the *aim* time that was used to determine the pointing. You should slew while the source is occulted."
   ]
  },
  {
   "cell_type": "code",
   "execution_count": 7,
   "metadata": {
    "collapsed": false
   },
   "outputs": [
    {
     "data": {
      "text/html": [
       "<div>\n",
       "<style>\n",
       "    .dataframe thead tr:only-child th {\n",
       "        text-align: right;\n",
       "    }\n",
       "\n",
       "    .dataframe thead th {\n",
       "        text-align: left;\n",
       "    }\n",
       "\n",
       "    .dataframe tbody tr th {\n",
       "        vertical-align: top;\n",
       "    }\n",
       "</style>\n",
       "<table border=\"1\" class=\"dataframe\">\n",
       "  <thead>\n",
       "    <tr style=\"text-align: right;\">\n",
       "      <th></th>\n",
       "      <th>index</th>\n",
       "      <th>visible</th>\n",
       "      <th>occulted</th>\n",
       "    </tr>\n",
       "  </thead>\n",
       "  <tbody>\n",
       "    <tr>\n",
       "      <th>0</th>\n",
       "      <td>10</td>\n",
       "      <td>2018-07-27 16:53:27</td>\n",
       "      <td>2018-07-27 17:49:58</td>\n",
       "    </tr>\n",
       "    <tr>\n",
       "      <th>1</th>\n",
       "      <td>11</td>\n",
       "      <td>2018-07-27 18:30:06</td>\n",
       "      <td>2018-07-27 19:26:37</td>\n",
       "    </tr>\n",
       "    <tr>\n",
       "      <th>2</th>\n",
       "      <td>12</td>\n",
       "      <td>2018-07-27 20:06:45</td>\n",
       "      <td>2018-07-27 21:03:16</td>\n",
       "    </tr>\n",
       "    <tr>\n",
       "      <th>3</th>\n",
       "      <td>13</td>\n",
       "      <td>2018-07-27 21:43:24</td>\n",
       "      <td>2018-07-27 22:39:55</td>\n",
       "    </tr>\n",
       "    <tr>\n",
       "      <th>4</th>\n",
       "      <td>14</td>\n",
       "      <td>2018-07-27 23:20:03</td>\n",
       "      <td>2018-07-28 00:16:34</td>\n",
       "    </tr>\n",
       "  </tbody>\n",
       "</table>\n",
       "</div>"
      ],
      "text/plain": [
       "   index              visible             occulted\n",
       "0     10  2018-07-27 16:53:27  2018-07-27 17:49:58\n",
       "1     11  2018-07-27 18:30:06  2018-07-27 19:26:37\n",
       "2     12  2018-07-27 20:06:45  2018-07-27 21:03:16\n",
       "3     13  2018-07-27 21:43:24  2018-07-27 22:39:55\n",
       "4     14  2018-07-27 23:20:03  2018-07-28 00:16:34"
      ]
     },
     "execution_count": 7,
     "metadata": {},
     "output_type": "execute_result"
    }
   ],
   "source": [
    "# Sanity check. Use this block to figure out which orbit(s) in the occultation file you want to use\n",
    "\n",
    "import nustar_planning.lunar_planning as lunar_planning\n",
    "sub = orbits.iloc[10:15].reset_index()\n",
    "sub\n",
    "#lunar_planning.position(sub, steps = 5, parallax_correction=True, load_path ='../../data')"
   ]
  },
  {
   "cell_type": "code",
   "execution_count": 10,
   "metadata": {
    "collapsed": false,
    "scrolled": true
   },
   "outputs": [
    {
     "name": "stdout",
     "output_type": "stream",
     "text": [
      "Output is stored in: lunar_208_209_lunar_eclipse.txt\n"
     ]
    }
   ],
   "source": [
    "# PA == sky_pa from above, Rmoon = 940 arcseconds (default), 6 arcminutes maximum drift (default) and\n",
    "# no minimum dwell period (default)\n",
    "\n",
    "# Note, this takes a few minutes to run!\n",
    "\n",
    "outfile = 'lunar_{0}_{1}_lunar_eclipse.txt'.format(tstart.timetuple().tm_yday,tend.timetuple().tm_yday )\n",
    "\n",
    "lunar_planning.position_shift(sub, parallax_correction=True, pa = sky_pa*u.deg, dt = 10*u.s, min_shift=6*u.arcmin,\n",
    "                              outfile=outfile,pad_time=0*u.s, load_path ='../../data', Rmoon=882*u.arcsec)\n",
    "print(\"Output is stored in: {}\".format(outfile))"
   ]
  },
  {
   "cell_type": "code",
   "execution_count": 9,
   "metadata": {
    "collapsed": false
   },
   "outputs": [
    {
     "name": "stdout",
     "output_type": "stream",
     "text": [
      "200.0 6.169740238141395\n",
      "240.0 6.124131758248456\n",
      "220.0 6.149805148448408\n",
      "180.0 6.0508643817791175\n",
      "150.0 6.372873460427363\n",
      "140.0 6.463579886535234\n",
      "130.0 6.343304147266612\n",
      "120.0 6.048131680379883\n",
      "110.0 6.188339516793559\n",
      "110.0 6.2454329485403814\n",
      "110.0 6.2155939119437\n",
      "110.0 6.102250261125205\n",
      "110.0 6.432556366689577\n",
      "120.0 6.104269775740112\n",
      "120.0 6.146168577216932\n",
      "130.0 6.387669685455571\n",
      "150.0 6.258761120262321\n",
      "170.0 6.139818357051421\n",
      "200.0 6.186741810179455\n",
      "230.0 6.163332220877003\n",
      "2749.0 139.87696148544956\n",
      "200.0 6.175935322514455\n",
      "240.0 6.033784224334077\n",
      "220.0 6.047571953716519\n",
      "180.0 6.393892350751576\n",
      "160.0 6.350518366809937\n",
      "140.0 6.447560964810457\n",
      "130.0 6.33173534750058\n",
      "120.0 6.041682216595398\n",
      "110.0 6.185439725635106\n",
      "110.0 6.24543515378124\n",
      "110.0 6.219425231142679\n",
      "110.0 6.1097700284720435\n",
      "110.0 6.4433877779367705\n",
      "120.0 6.118212405167445\n",
      "120.0 6.165030415852125\n",
      "130.0 6.009931023287715\n",
      "140.0 6.34776248594072\n",
      "170.0 6.224257428295845\n",
      "200.0 6.2070264530770745\n",
      "230.0 6.094232887470729\n",
      "2749.0 139.8342886206921\n",
      "190.0 6.217848358430075\n",
      "240.0 6.190305777762445\n",
      "230.0 6.309300007447424\n",
      "190.0 6.3635618548599595\n",
      "160.0 6.328243858992701\n",
      "140.0 6.431103795675049\n",
      "130.0 6.3205508670036235\n",
      "120.0 6.034230298766068\n",
      "110.0 6.18266358196009\n",
      "110.0 6.245563833613897\n",
      "110.0 6.223397243195569\n",
      "110.0 6.116289680134985\n",
      "110.0 6.454835283908563\n",
      "120.0 6.132962567642606\n",
      "120.0 6.183303385544054\n",
      "130.0 6.0313437551579\n",
      "140.0 6.030415186832751\n",
      "160.0 6.024311867422076\n",
      "190.0 6.254000187061695\n",
      "230.0 6.2894513817773054\n",
      "2759.0 139.88855310308853\n",
      "190.0 6.240645383595971\n",
      "240.0 6.103551047878439\n",
      "230.0 6.201087918176849\n",
      "190.0 6.273019992740646\n",
      "160.0 6.257449569903349\n",
      "140.0 6.376305047498424\n",
      "130.0 6.281483722661048\n",
      "120.0 6.01002823461109\n",
      "110.0 6.168786761418498\n",
      "110.0 6.243398648206712\n",
      "110.0 6.232301293126023\n",
      "110.0 6.136506899679181\n",
      "110.0 6.487760041505413\n",
      "120.0 6.177350744959256\n",
      "120.0 6.241030313282157\n",
      "130.0 6.102365383400431\n",
      "140.0 6.112888099495181\n",
      "160.0 6.108634988766161\n",
      "190.0 6.029609814721784\n",
      "220.0 6.184212243835478\n",
      "2769.0 140.07972367232105\n",
      "190.0 6.028954187087646\n",
      "230.0 6.25889829759389\n",
      "240.0 6.094575083094191\n",
      "190.0 6.1803788627481815\n",
      "160.0 6.184911817058202\n",
      "140.0 6.3204402179388115\n",
      "130.0 6.241893725644887\n",
      "120.0 6.537529486380771\n",
      "120.0 6.164929902217916\n",
      "110.0 6.243129852676258\n",
      "110.0 6.235923788084312\n",
      "110.0 6.142684472089542\n",
      "110.0 6.498419536514995\n",
      "120.0 6.19125173265378\n",
      "120.0 6.258884696692746\n",
      "130.0 6.123375060170504\n",
      "140.0 6.137951085664889\n",
      "160.0 6.133558564835427\n",
      "190.0 6.039734548745856\n",
      "220.0 6.167081079627847\n",
      "\n",
      "26236.0 26236.0\n"
     ]
    }
   ],
   "source": [
    "import numpy as np\n",
    "from astropy.coordinates import SkyCoord\n",
    "outfile = 'lunar_{0}_{1}_lunar_eclipse.txt'.format(tstart.timetuple().tm_yday,tend.timetuple().tm_yday )\n",
    "\n",
    "\n",
    "\n",
    "f = open(outfile, 'r')\n",
    "times = []\n",
    "sky_pos = []\n",
    "for line in f:\n",
    "    if line.startswith('A'):\n",
    "        continue\n",
    "\n",
    "\n",
    "\n",
    "    fields = line.split()\n",
    "    this_time = datetime.strptime(fields[0], '%Y:%j:%H:%M:%S')\n",
    "\n",
    "    times = np.append(times, this_time)\n",
    "    \n",
    "    this_skypos = SkyCoord(ra=fields[1], dec=fields[2], unit ='deg')\n",
    "    sky_pos = np.append(sky_pos, this_skypos)\n",
    "    \n",
    "f.close()\n",
    "\n",
    "good_exp = 0.\n",
    "all_exp = 0.\n",
    "for ind in range(len(times)):\n",
    "    if ind == 0:\n",
    "        continue\n",
    "    dt = (times[ind] - times[ind-1]).total_seconds()\n",
    "    all_exp += dt\n",
    "#    if (dt < 200):\n",
    "#        continue\n",
    "    dr = sky_pos[ind].separation(sky_pos[ind-1]).arcmin\n",
    "    print(dt, dr)\n",
    "    good_exp += dt\n",
    "\n",
    "print()\n",
    "print(good_exp, all_exp)\n"
   ]
  },
  {
   "cell_type": "code",
   "execution_count": null,
   "metadata": {
    "collapsed": true
   },
   "outputs": [],
   "source": []
  },
  {
   "cell_type": "code",
   "execution_count": null,
   "metadata": {
    "collapsed": true
   },
   "outputs": [],
   "source": []
  }
 ],
 "metadata": {
  "anaconda-cloud": {},
  "kernelspec": {
   "display_name": "Python [default]",
   "language": "python",
   "name": "python3"
  },
  "language_info": {
   "codemirror_mode": {
    "name": "ipython",
    "version": 3
   },
   "file_extension": ".py",
   "mimetype": "text/x-python",
   "name": "python",
   "nbconvert_exporter": "python",
   "pygments_lexer": "ipython3",
   "version": "3.5.1"
  }
 },
 "nbformat": 4,
 "nbformat_minor": 2
}
