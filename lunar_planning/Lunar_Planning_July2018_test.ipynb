{
 "cells": [
  {
   "cell_type": "markdown",
   "metadata": {},
   "source": [
    "# First thing to do, make a copy of this notebook under File->Make a Copy with some intelligent naming convention.\n",
    "\n",
    "---"
   ]
  },
  {
   "cell_type": "markdown",
   "metadata": {},
   "source": [
    "# Set your observing times here.\n",
    "\n",
    "## NB: This will be a broader window that you'll actually use. The final output will give you orbit-by-orbit pointing information. So you can use a subset of the orbits that are chosen here."
   ]
  },
  {
   "cell_type": "code",
   "execution_count": 1,
   "metadata": {
    "collapsed": false
   },
   "outputs": [],
   "source": [
    "from datetime import datetime\n",
    "\n",
    "# Note that tstart and tend should span for at least one day because of the way the scripts are written.\n",
    "tstart = '2018-07-18T00:00:00'\n",
    "tend = '2018-07-19T00:00:00'\n",
    "\n",
    "ttarget = '2018-07-19T00:51:00'\n",
    "# Turn these into datetime objects\n",
    "\n",
    "tstart = datetime.strptime(tstart, '%Y-%m-%dT%H:%M:%S')\n",
    "tend = datetime.strptime(tend, '%Y-%m-%dT%H:%M:%S')\n",
    "ttarget = datetime.strptime(ttarget,'%Y-%m-%dT%H:%M:%S')\n",
    "\n"
   ]
  },
  {
   "cell_type": "markdown",
   "metadata": {},
   "source": [
    "---\n",
    "# Step 1, get the nominal RA/Dec Position for the Moon at the nominal target time\n",
    "\n",
    "## We use this to determine what the occultation times are."
   ]
  },
  {
   "cell_type": "code",
   "execution_count": 2,
   "metadata": {
    "collapsed": false
   },
   "outputs": [
    {
     "name": "stderr",
     "output_type": "stream",
     "text": [
      "\r",
      "[#################################] 100% deltat.preds\n"
     ]
    },
    {
     "name": "stdout",
     "output_type": "stream",
     "text": [
      "../orbit_engine/lunar_199to200.sh\n"
     ]
    }
   ],
   "source": [
    "from skyfield.api import Loader\n",
    "from astropy.time import Time\n",
    "import astropy.units as u\n",
    "\n",
    "load = Loader('../../data')\n",
    "\n",
    "ts = load.timescale()\n",
    "planets = load('de436.bsp')\n",
    "\n",
    "astro_time = Time(ttarget)\n",
    "t = ts.from_astropy(astro_time)\n",
    "moon, earth = planets['moon'], planets['earth']\n",
    "astrometric = earth.at(t).observe(moon)\n",
    "ra, dec, distance = astrometric.radec()\n",
    "\n",
    "\n",
    "occstring = \"./occ {0:0.4f} {1:0.4f} Latest_TLE.txt {2}:{3:03d}:00:00:00 {4}:{5:03d}:00:00:00 lunar_{3}_{5}.occ\".format(\n",
    "      ra.to(u.deg).value, dec.to(u.deg).value,\n",
    "      tstart.timetuple().tm_year, tstart.timetuple().tm_yday, \n",
    "      tend.timetuple().tm_year, tend.timetuple().tm_yday)\n",
    "\n",
    "\n",
    "outfile = '../orbit_engine/lunar_{0}to{1}.sh'.format(tstart.timetuple().tm_yday, tend.timetuple().tm_yday)\n",
    "print(outfile)\n",
    "\n",
    "f = open(outfile, 'w')\n",
    "f.write(occstring)\n",
    "f.close()\n",
    "\n",
    "\n",
    "import os\n",
    "import stat\n",
    "\n",
    "st = os.stat(outfile)\n",
    "os.chmod(outfile, st.st_mode | stat.S_IEXEC)\n",
    "\n"
   ]
  },
  {
   "cell_type": "markdown",
   "metadata": {},
   "source": [
    "---\n",
    "# Step 2, get the PA position \n",
    "\n",
    "## We use this to figure out how to offset the FoV for the Moon"
   ]
  },
  {
   "cell_type": "code",
   "execution_count": 3,
   "metadata": {
    "collapsed": false
   },
   "outputs": [
    {
     "name": "stdout",
     "output_type": "stream",
     "text": [
      "../orbit_engine/lunar_199to200_pa.sh\n"
     ]
    }
   ],
   "source": [
    "\n",
    "pastring = \"./att2pa {0} {1} {2} -5 > lunar_{3}_{4}.pa\".format(\n",
    "    ttarget.strftime('%Y:%j:%H:%M:%S'),\n",
    "    ra.to(u.deg).value, dec.to(u.deg).value,\n",
    "    tstart.timetuple().tm_yday, tend.timetuple().tm_yday)\n",
    "outfile = '../orbit_engine/lunar_{0}to{1}_pa.sh'.format(tstart.timetuple().tm_yday, tend.timetuple().tm_yday)\n",
    "print(outfile)\n",
    "\n",
    "f = open(outfile, 'w')\n",
    "f.write(pastring)\n",
    "f.close()\n",
    "\n",
    "\n",
    "import os\n",
    "import stat\n",
    "\n",
    "st = os.stat(outfile)\n",
    "os.chmod(outfile, st.st_mode | stat.S_IEXEC)\n"
   ]
  },
  {
   "cell_type": "markdown",
   "metadata": {},
   "source": [
    "---\n",
    "# Step 2: Go run the code that figures out the unocculted periods for the RA/Dec and the date range reported above.\n",
    "\n",
    "This works on lif. There are example shell scripts in the ../orbit_engine directory that use the version that Karl already compiled for the nuops users.\n",
    "\n",
    "First, get the latest TLE archive:\n",
    "\n",
    "`./get_latest_TLE.sh`\n",
    "\n",
    "Run the script that was produced to produce the occultation files:\n",
    "\n",
    "`./lunar_225to226.sh`\n",
    "\n",
    "...and the one to get the PA position. **Remember that this is the MPS PA angle, so the SKY PA = 180 - MPA_PA. However, the code in nsutar_planning.io knows how to fix this and will return SKY PA values.**\n",
    "\n",
    "`./lunar_225to226_pa.sh`\n",
    "\n",
    "Check in the resulting output files in to github if you're working remotely.\n",
    "\n",
    "`git add lunar_225to226.occ lunar_225to226.pa`\n",
    "\n",
    "`git commit -m \"Files for days 225-226\"`\n",
    "\n",
    "`git push`\n",
    "\n",
    "Then pull this down to your local environment and continue below.\n"
   ]
  },
  {
   "cell_type": "markdown",
   "metadata": {},
   "source": [
    "# Step 3: Initialize your libraries and parse the resulting occultation file:\n"
   ]
  },
  {
   "cell_type": "code",
   "execution_count": 4,
   "metadata": {
    "collapsed": false
   },
   "outputs": [
    {
     "name": "stdout",
     "output_type": "stream",
     "text": [
      "SKY PA angle:  -3.404853000000003\n"
     ]
    }
   ],
   "source": [
    "from nustar_planning import io\n",
    "occfile= \"../orbit_engine/lunar_{0}_{1}.occ\".format(tstart.timetuple().tm_yday,tend.timetuple().tm_yday )\n",
    "pafile= \"../orbit_engine/lunar_{0}_{1}.pa\".format(tstart.timetuple().tm_yday,tend.timetuple().tm_yday )\n",
    "\n",
    "orbits = io.parse_occ(occfile)\n",
    "sky_pa = io.parse_pa(pafile)\n",
    "\n",
    "\n",
    "# NB: The \"head\" command here only shows the first couple of rows. Do a \"print(orbits)\" to see them all.\n",
    "orbits.head()\n",
    "print('SKY PA angle: ', sky_pa)"
   ]
  },
  {
   "cell_type": "markdown",
   "metadata": {},
   "source": [
    "# Use SkyField to get the location of the Moon for each orbit:\n",
    "\n",
    "This puts the output into the provided text file. This shows the *aim* time that was used to determine the pointing. You should slew while the source is occulted."
   ]
  },
  {
   "cell_type": "code",
   "execution_count": 5,
   "metadata": {
    "collapsed": false
   },
   "outputs": [
    {
     "name": "stderr",
     "output_type": "stream",
     "text": [
      "[#################################] 100% deltat.preds\n",
      "[#################################] 100% deltat.preds\n"
     ]
    },
    {
     "name": "stdout",
     "output_type": "stream",
     "text": [
      "Aim Time            RA         Dec\n",
      "2018-07-18T00:27:42 185.12058  2.99540\n",
      "2018-07-18T00:38:51.400000 184.97936  3.06856\n",
      "2018-07-18T00:50:00.800000 184.41206  3.12604\n",
      "2018-07-18T01:01:10.200000 183.76254  3.11751\n",
      "2018-07-18T01:12:19.600000 183.42279  3.02904\n"
     ]
    }
   ],
   "source": [
    "# Sanity check. Use this block to figure out which orbit(s) in the occultation file you want to use\n",
    "\n",
    "import nustar_planning.lunar_planning as lunar_planning\n",
    "sub = orbits.iloc[0:1].reset_index()\n",
    "lunar_planning.position(sub, steps = 5, parallax_correction=True, load_path ='../../data')"
   ]
  },
  {
   "cell_type": "code",
   "execution_count": 13,
   "metadata": {
    "collapsed": false,
    "scrolled": true
   },
   "outputs": [
    {
     "name": "stderr",
     "output_type": "stream",
     "text": [
      "\r",
      "[#################################] 100% deltat.preds\n"
     ]
    },
    {
     "name": "stdout",
     "output_type": "stream",
     "text": [
      "Output is stored in: lunar_199_200_pointing_test.txt\n"
     ]
    }
   ],
   "source": [
    "# PA == sky_pa from above, Rmoon = 940 arcseconds (default), 6 arcminutes maximum drift (default) and\n",
    "# no minimum dwell period (default)\n",
    "\n",
    "# Note, this takes a few minutes to run!\n",
    "\n",
    "outfile = 'lunar_{0}_{1}_pointing_test.txt'.format(tstart.timetuple().tm_yday,tend.timetuple().tm_yday )\n",
    "\n",
    "lunar_planning.position_shift(sub, parallax_correction=True, pa = sky_pa*u.deg, dt = 10*u.s, min_shift=8*u.arcmin,\n",
    "                              outfile=outfile,pad_time=0*u.s, load_path ='../../data')\n",
    "print(\"Output is stored in: {}\".format(outfile))"
   ]
  },
  {
   "cell_type": "code",
   "execution_count": 7,
   "metadata": {
    "collapsed": false
   },
   "outputs": [
    {
     "name": "stdout",
     "output_type": "stream",
     "text": [
      "630.0 8.333919390135684\n",
      "210.0 8.350363753285741\n",
      "170.0 8.277327912806248\n",
      "150.0 8.257179871578842\n",
      "140.0 8.539562512061337\n",
      "140.0 8.589069771103606\n",
      "140.0 8.405272300945134\n",
      "140.0 8.541972525298863\n",
      "150.0 8.295331636973433\n",
      "160.0 8.376738027103292\n",
      "190.0 8.009292914794482\n",
      "250.0 8.125187494869097\n",
      "\n",
      "2470.0 2470.0\n"
     ]
    }
   ],
   "source": [
    "import numpy as np\n",
    "from astropy.coordinates import SkyCoord\n",
    "\n",
    "outfile = 'lunar_{0}_{1}_pointing_test.txt'.format(tstart.timetuple().tm_yday,tend.timetuple().tm_yday )\n",
    "\n",
    "\n",
    "f = open(outfile, 'r')\n",
    "times = []\n",
    "sky_pos = []\n",
    "for line in f:\n",
    "    if line.startswith('A'):\n",
    "        continue\n",
    "\n",
    "\n",
    "\n",
    "    fields = line.split()\n",
    "    this_time = datetime.strptime(fields[0], '%Y:%j:%H:%M:%S')\n",
    "\n",
    "    times = np.append(times, this_time)\n",
    "    \n",
    "    this_skypos = SkyCoord(ra=fields[1], dec=fields[2], unit ='deg')\n",
    "    sky_pos = np.append(sky_pos, this_skypos)\n",
    "    \n",
    "f.close()\n",
    "\n",
    "good_exp = 0.\n",
    "all_exp = 0.\n",
    "for ind in range(len(times)):\n",
    "    if ind == 0:\n",
    "        continue\n",
    "    dt = (times[ind] - times[ind-1]).total_seconds()\n",
    "    all_exp += dt\n",
    "#    if (dt < 200):\n",
    "#        continue\n",
    "    dr = sky_pos[ind].separation(sky_pos[ind-1]).arcmin\n",
    "    print(dt, dr)\n",
    "    good_exp += dt\n",
    "\n",
    "print()\n",
    "print(good_exp, all_exp)\n"
   ]
  },
  {
   "cell_type": "code",
   "execution_count": null,
   "metadata": {
    "collapsed": true
   },
   "outputs": [],
   "source": []
  },
  {
   "cell_type": "code",
   "execution_count": null,
   "metadata": {
    "collapsed": true
   },
   "outputs": [],
   "source": []
  }
 ],
 "metadata": {
  "anaconda-cloud": {},
  "kernelspec": {
   "display_name": "Python [default]",
   "language": "python",
   "name": "python3"
  },
  "language_info": {
   "codemirror_mode": {
    "name": "ipython",
    "version": 3
   },
   "file_extension": ".py",
   "mimetype": "text/x-python",
   "name": "python",
   "nbconvert_exporter": "python",
   "pygments_lexer": "ipython3",
   "version": "3.5.1"
  }
 },
 "nbformat": 4,
 "nbformat_minor": 2
}
