{
 "cells": [
  {
   "cell_type": "markdown",
   "metadata": {},
   "source": [
    "# First thing to do, make a copy of this notebook under File->Make a Copy with some intelligent naming convention.\n",
    "\n",
    "---"
   ]
  },
  {
   "cell_type": "markdown",
   "metadata": {},
   "source": [
    "# Set your observing times here.\n",
    "\n",
    "## NB: This will be a broader window that you'll actually use. The final output will give you orbit-by-orbit pointing information. So you can use a subset of the orbits that are chosen here."
   ]
  },
  {
   "cell_type": "code",
   "execution_count": 1,
   "metadata": {
    "collapsed": false
   },
   "outputs": [],
   "source": [
    "from datetime import datetime\n",
    "\n",
    "# Note that tstart and tend should span for at least one day because of the way the scripts are written.\n",
    "tstart = '2018-07-27T00:00:00'\n",
    "tend = '2018-07-28T00:00:00'\n",
    "\n",
    "ttarget = '2018-07-27T20:21:00'\n",
    "# Turn these into datetime objects\n",
    "\n",
    "tstart = datetime.strptime(tstart, '%Y-%m-%dT%H:%M:%S')\n",
    "tend = datetime.strptime(tend, '%Y-%m-%dT%H:%M:%S')\n",
    "ttarget = datetime.strptime(ttarget,'%Y-%m-%dT%H:%M:%S')\n",
    "\n"
   ]
  },
  {
   "cell_type": "markdown",
   "metadata": {},
   "source": [
    "---\n",
    "# Step 1, get the nominal RA/Dec Position for the Moon at the nominal target time\n",
    "\n",
    "## We use this to determine what the occultation times are."
   ]
  },
  {
   "cell_type": "code",
   "execution_count": 2,
   "metadata": {
    "collapsed": false
   },
   "outputs": [],
   "source": [
    "from skyfield.api import Loader\n",
    "from astropy.time import Time\n",
    "import astropy.units as u\n",
    "\n",
    "load = Loader('../../data')\n",
    "\n",
    "ts = load.timescale()\n",
    "planets = load('de436.bsp')\n",
    "\n",
    "astro_time = Time(ttarget)\n",
    "t = ts.from_astropy(astro_time)\n",
    "moon, earth = planets['moon'], planets['earth']\n",
    "astrometric = earth.at(t).observe(moon)\n",
    "ra, dec, distance = astrometric.radec()"
   ]
  },
  {
   "cell_type": "code",
   "execution_count": 3,
   "metadata": {
    "collapsed": false
   },
   "outputs": [
    {
     "data": {
      "text/plain": [
       "209"
      ]
     },
     "execution_count": 3,
     "metadata": {},
     "output_type": "execute_result"
    }
   ],
   "source": [
    "tend.timetuple().tm_yday"
   ]
  },
  {
   "cell_type": "code",
   "execution_count": 4,
   "metadata": {
    "collapsed": false
   },
   "outputs": [
    {
     "name": "stdout",
     "output_type": "stream",
     "text": [
      "../orbit_engine/lunar_208to209.sh\n"
     ]
    }
   ],
   "source": [
    "occstring = \"./occ {0:0.4f} {1:0.4f} Latest_TLE.txt {2}:{3:03d}:00:00:00 {4}:{5:03d}::00:00 lunar_{3}_{5}.occ\".format(\n",
    "      ra.to(u.deg).value, dec.to(u.deg).value,\n",
    "      tstart.timetuple().tm_year, tstart.timetuple().tm_yday,    \n",
    "      tend.timetuple().tm_year, tend.timetuple().tm_yday)\n",
    "\n",
    "\n",
    "outfile = '../orbit_engine/lunar_{0}to{1}.sh'.format(tstart.timetuple().tm_yday, tend.timetuple().tm_yday)\n",
    "print(outfile)\n",
    "\n",
    "f = open(outfile, 'w')\n",
    "f.write(occstring)\n",
    "f.close()\n",
    "\n",
    "\n",
    "import os\n",
    "import stat\n",
    "\n",
    "st = os.stat(outfile)\n",
    "os.chmod(outfile, st.st_mode | stat.S_IEXEC)"
   ]
  },
  {
   "cell_type": "markdown",
   "metadata": {},
   "source": [
    "---\n",
    "# Step 2, get the PA position \n",
    "\n",
    "## We use this to figure out how to offset the FoV for the Moon"
   ]
  },
  {
   "cell_type": "code",
   "execution_count": 5,
   "metadata": {
    "collapsed": false
   },
   "outputs": [
    {
     "name": "stdout",
     "output_type": "stream",
     "text": [
      "../orbit_engine/lunar_208to209_pa.sh\n"
     ]
    }
   ],
   "source": [
    "\n",
    "pastring = \"./att2pa {0} {1} {2} -5 > lunar_{3}_{4}.pa\".format(\n",
    "    ttarget.strftime('%Y:%j:%H:%M:%S'),\n",
    "    ra.to(u.deg).value, dec.to(u.deg).value,\n",
    "    tstart.timetuple().tm_yday, tend.timetuple().tm_yday)\n",
    "outfile = '../orbit_engine/lunar_{0}to{1}_pa.sh'.format(tstart.timetuple().tm_yday, tend.timetuple().tm_yday)\n",
    "print(outfile)\n",
    "\n",
    "f = open(outfile, 'w')\n",
    "f.write(pastring)\n",
    "f.close()\n",
    "\n",
    "\n",
    "import os\n",
    "import stat\n",
    "\n",
    "st = os.stat(outfile)\n",
    "os.chmod(outfile, st.st_mode | stat.S_IEXEC)\n"
   ]
  },
  {
   "cell_type": "markdown",
   "metadata": {},
   "source": [
    "---\n",
    "# Step 2: Go run the code that figures out the unocculted periods for the RA/Dec and the date range reported above.\n",
    "\n",
    "This works on lif. There are example shell scripts in the ../orbit_engine directory that use the version that Karl already compiled for the nuops users.\n",
    "\n",
    "First, get the latest TLE archive:\n",
    "\n",
    "`./get_latest_TLE.sh`\n",
    "\n",
    "Run the script that was produced to produce the occultation files:\n",
    "\n",
    "`./lunar_225to226.sh`\n",
    "\n",
    "...and the one to get the PA position. **Remember that this is the MPS PA angle, so the SKY PA = 180 - MPA_PA. However, the code in nsutar_planning.io knows how to fix this and will return SKY PA values.**\n",
    "\n",
    "`./lunar_225to226_pa.sh`\n",
    "\n",
    "Check in the resulting output files in to github if you're working remotely.\n",
    "\n",
    "`git add lunar_225to226.occ lunar_225to226.pa`\n",
    "\n",
    "`git commit -m \"Files for days 225-226\"`\n",
    "\n",
    "`git push`\n",
    "\n",
    "Then pull this down to your local environment and continue below.\n"
   ]
  },
  {
   "cell_type": "markdown",
   "metadata": {},
   "source": [
    "# Step 3: Initialize your libraries and parse the resulting occultation file:\n"
   ]
  },
  {
   "cell_type": "code",
   "execution_count": 6,
   "metadata": {
    "collapsed": false
   },
   "outputs": [
    {
     "name": "stdout",
     "output_type": "stream",
     "text": [
      "SKY PA angle:  46.860378999999995\n"
     ]
    },
    {
     "data": {
      "text/html": [
       "<div>\n",
       "<style>\n",
       "    .dataframe thead tr:only-child th {\n",
       "        text-align: right;\n",
       "    }\n",
       "\n",
       "    .dataframe thead th {\n",
       "        text-align: left;\n",
       "    }\n",
       "\n",
       "    .dataframe tbody tr th {\n",
       "        vertical-align: top;\n",
       "    }\n",
       "</style>\n",
       "<table border=\"1\" class=\"dataframe\">\n",
       "  <thead>\n",
       "    <tr style=\"text-align: right;\">\n",
       "      <th></th>\n",
       "      <th>visible</th>\n",
       "      <th>occulted</th>\n",
       "    </tr>\n",
       "  </thead>\n",
       "  <tbody>\n",
       "    <tr>\n",
       "      <th>0</th>\n",
       "      <td>2018-07-27 00:46:58</td>\n",
       "      <td>2018-07-27 01:43:28</td>\n",
       "    </tr>\n",
       "    <tr>\n",
       "      <th>1</th>\n",
       "      <td>2018-07-27 02:23:37</td>\n",
       "      <td>2018-07-27 03:20:07</td>\n",
       "    </tr>\n",
       "    <tr>\n",
       "      <th>2</th>\n",
       "      <td>2018-07-27 04:00:16</td>\n",
       "      <td>2018-07-27 04:56:46</td>\n",
       "    </tr>\n",
       "    <tr>\n",
       "      <th>3</th>\n",
       "      <td>2018-07-27 05:36:55</td>\n",
       "      <td>2018-07-27 06:33:25</td>\n",
       "    </tr>\n",
       "    <tr>\n",
       "      <th>4</th>\n",
       "      <td>2018-07-27 07:13:34</td>\n",
       "      <td>2018-07-27 08:10:04</td>\n",
       "    </tr>\n",
       "    <tr>\n",
       "      <th>5</th>\n",
       "      <td>2018-07-27 08:50:13</td>\n",
       "      <td>2018-07-27 09:46:43</td>\n",
       "    </tr>\n",
       "    <tr>\n",
       "      <th>6</th>\n",
       "      <td>2018-07-27 10:26:52</td>\n",
       "      <td>2018-07-27 11:23:22</td>\n",
       "    </tr>\n",
       "    <tr>\n",
       "      <th>7</th>\n",
       "      <td>2018-07-27 12:03:31</td>\n",
       "      <td>2018-07-27 13:00:01</td>\n",
       "    </tr>\n",
       "    <tr>\n",
       "      <th>8</th>\n",
       "      <td>2018-07-27 13:40:10</td>\n",
       "      <td>2018-07-27 14:36:40</td>\n",
       "    </tr>\n",
       "    <tr>\n",
       "      <th>9</th>\n",
       "      <td>2018-07-27 15:16:49</td>\n",
       "      <td>2018-07-27 16:13:19</td>\n",
       "    </tr>\n",
       "    <tr>\n",
       "      <th>10</th>\n",
       "      <td>2018-07-27 16:53:28</td>\n",
       "      <td>2018-07-27 17:49:58</td>\n",
       "    </tr>\n",
       "    <tr>\n",
       "      <th>11</th>\n",
       "      <td>2018-07-27 18:30:06</td>\n",
       "      <td>2018-07-27 19:26:37</td>\n",
       "    </tr>\n",
       "    <tr>\n",
       "      <th>12</th>\n",
       "      <td>2018-07-27 20:06:45</td>\n",
       "      <td>2018-07-27 21:03:16</td>\n",
       "    </tr>\n",
       "    <tr>\n",
       "      <th>13</th>\n",
       "      <td>2018-07-27 21:43:24</td>\n",
       "      <td>2018-07-27 22:39:55</td>\n",
       "    </tr>\n",
       "    <tr>\n",
       "      <th>14</th>\n",
       "      <td>2018-07-27 23:20:03</td>\n",
       "      <td>2018-07-28 00:16:34</td>\n",
       "    </tr>\n",
       "    <tr>\n",
       "      <th>15</th>\n",
       "      <td>2018-07-28 00:56:42</td>\n",
       "      <td>2018-07-28 01:53:13</td>\n",
       "    </tr>\n",
       "    <tr>\n",
       "      <th>16</th>\n",
       "      <td>2018-07-28 02:33:21</td>\n",
       "      <td>2018-07-28 03:29:52</td>\n",
       "    </tr>\n",
       "    <tr>\n",
       "      <th>17</th>\n",
       "      <td>2018-07-28 04:10:00</td>\n",
       "      <td>2018-07-28 05:06:31</td>\n",
       "    </tr>\n",
       "    <tr>\n",
       "      <th>18</th>\n",
       "      <td>2018-07-28 05:46:39</td>\n",
       "      <td>2018-07-28 06:43:10</td>\n",
       "    </tr>\n",
       "    <tr>\n",
       "      <th>19</th>\n",
       "      <td>2018-07-28 07:23:18</td>\n",
       "      <td>2018-07-28 08:19:49</td>\n",
       "    </tr>\n",
       "    <tr>\n",
       "      <th>20</th>\n",
       "      <td>2018-07-28 08:59:57</td>\n",
       "      <td>2018-07-28 09:56:28</td>\n",
       "    </tr>\n",
       "    <tr>\n",
       "      <th>21</th>\n",
       "      <td>2018-07-28 10:36:36</td>\n",
       "      <td>2018-07-28 11:33:07</td>\n",
       "    </tr>\n",
       "  </tbody>\n",
       "</table>\n",
       "</div>"
      ],
      "text/plain": [
       "                visible             occulted\n",
       "0   2018-07-27 00:46:58  2018-07-27 01:43:28\n",
       "1   2018-07-27 02:23:37  2018-07-27 03:20:07\n",
       "2   2018-07-27 04:00:16  2018-07-27 04:56:46\n",
       "3   2018-07-27 05:36:55  2018-07-27 06:33:25\n",
       "4   2018-07-27 07:13:34  2018-07-27 08:10:04\n",
       "5   2018-07-27 08:50:13  2018-07-27 09:46:43\n",
       "6   2018-07-27 10:26:52  2018-07-27 11:23:22\n",
       "7   2018-07-27 12:03:31  2018-07-27 13:00:01\n",
       "8   2018-07-27 13:40:10  2018-07-27 14:36:40\n",
       "9   2018-07-27 15:16:49  2018-07-27 16:13:19\n",
       "10  2018-07-27 16:53:28  2018-07-27 17:49:58\n",
       "11  2018-07-27 18:30:06  2018-07-27 19:26:37\n",
       "12  2018-07-27 20:06:45  2018-07-27 21:03:16\n",
       "13  2018-07-27 21:43:24  2018-07-27 22:39:55\n",
       "14  2018-07-27 23:20:03  2018-07-28 00:16:34\n",
       "15  2018-07-28 00:56:42  2018-07-28 01:53:13\n",
       "16  2018-07-28 02:33:21  2018-07-28 03:29:52\n",
       "17  2018-07-28 04:10:00  2018-07-28 05:06:31\n",
       "18  2018-07-28 05:46:39  2018-07-28 06:43:10\n",
       "19  2018-07-28 07:23:18  2018-07-28 08:19:49\n",
       "20  2018-07-28 08:59:57  2018-07-28 09:56:28\n",
       "21  2018-07-28 10:36:36  2018-07-28 11:33:07"
      ]
     },
     "execution_count": 6,
     "metadata": {},
     "output_type": "execute_result"
    }
   ],
   "source": [
    "from nustar_planning import io\n",
    "occfile= \"../orbit_engine/lunar_{0}_{1}.occ\".format(tstart.timetuple().tm_yday,tend.timetuple().tm_yday )\n",
    "pafile= \"../orbit_engine/lunar_{0}_{1}.pa\".format(tstart.timetuple().tm_yday,tend.timetuple().tm_yday )\n",
    "\n",
    "orbits = io.parse_occ(occfile)\n",
    "sky_pa = io.parse_pa(pafile)\n",
    "\n",
    "\n",
    "# NB: The \"head\" command here only shows the first couple of rows. Do a \"print(orbits)\" to see them all.\n",
    "orbits.head()\n",
    "print('SKY PA angle: ', sky_pa)\n",
    "orbits"
   ]
  },
  {
   "cell_type": "markdown",
   "metadata": {},
   "source": [
    "# Use SkyField to get the location of the Moon for each orbit:\n",
    "\n",
    "This puts the output into the provided text file. This shows the *aim* time that was used to determine the pointing. You should slew while the source is occulted."
   ]
  },
  {
   "cell_type": "code",
   "execution_count": 7,
   "metadata": {
    "collapsed": false
   },
   "outputs": [],
   "source": [
    "# Sanity check. Use this block to figure out which orbit(s) in the occultation file you want to use\n",
    "\n",
    "import nustar_planning.lunar_planning as lunar_planning\n",
    "sub = orbits.iloc[10:15].reset_index()\n",
    "sub\n",
    "\n",
    "sky_pa = 321\n",
    "#lunar_planning.position(sub, steps = 5, parallax_correction=True, load_path ='../../data')"
   ]
  },
  {
   "cell_type": "code",
   "execution_count": 8,
   "metadata": {
    "collapsed": false,
    "scrolled": true
   },
   "outputs": [
    {
     "name": "stderr",
     "output_type": "stream",
     "text": [
      "[#################################] 100% deltat.data\n",
      "[#################################] 100% deltat.preds\n"
     ]
    },
    {
     "name": "stdout",
     "output_type": "stream",
     "text": [
      "Output is stored in: lunar_208_209_lunar_eclipse_v2.txt\n"
     ]
    }
   ],
   "source": [
    "# PA == sky_pa from above, Rmoon = 940 arcseconds (default), 6 arcminutes maximum drift (default) and\n",
    "# no minimum dwell period (default)\n",
    "\n",
    "# Note, this takes a few minutes to run!\n",
    "\n",
    "outfile = 'lunar_{0}_{1}_lunar_eclipse_v2.txt'.format(tstart.timetuple().tm_yday,tend.timetuple().tm_yday )\n",
    "\n",
    "lunar_planning.position_shift(sub, parallax_correction=True, pa = sky_pa*u.deg, dt = 10*u.s, min_shift=6*u.arcmin,\n",
    "                              outfile=outfile,pad_time=0*u.s, load_path ='../../data', Rmoon=882*u.arcsec)\n",
    "print(\"Output is stored in: {}\".format(outfile))"
   ]
  },
  {
   "cell_type": "code",
   "execution_count": 9,
   "metadata": {
    "collapsed": false
   },
   "outputs": [
    {
     "name": "stdout",
     "output_type": "stream",
     "text": [
      "200.0 6.166270833373711\n",
      "240.0 6.134737597676903\n",
      "220.0 6.162442338832218\n",
      "180.0 6.062479688717179\n",
      "150.0 6.382914668685108\n",
      "140.0 6.47167442573139\n",
      "130.0 6.348397258331052\n",
      "120.0 6.05241306948874\n",
      "110.0 6.191204269691855\n",
      "110.0 6.2457056127475505\n",
      "110.0 6.215511576949638\n",
      "110.0 6.100682942132042\n",
      "110.0 6.428458095985127\n",
      "120.0 6.098812322858591\n",
      "120.0 6.1391792277521215\n",
      "130.0 6.378181849571256\n",
      "150.0 6.247473153041888\n",
      "170.0 6.128608096204527\n",
      "200.0 6.184023567794574\n",
      "230.0 6.172672177369418\n",
      "2748.0 139.8832091563525\n",
      "200.0 6.17377342952204\n",
      "240.0 6.038503611871067\n",
      "220.0 6.054722603708159\n",
      "180.0 6.399687744710357\n",
      "160.0 6.355842886894901\n",
      "140.0 6.451398283576061\n",
      "130.0 6.334782750997089\n",
      "120.0 6.043681990950164\n",
      "110.0 6.18757100273223\n",
      "110.0 6.24585721286467\n",
      "110.0 6.219881667664236\n",
      "110.0 6.109081602140036\n",
      "110.0 6.44160242567206\n",
      "120.0 6.116546560498789\n",
      "120.0 6.162191550682177\n",
      "130.0 6.005598054836298\n",
      "140.0 6.342419471585881\n",
      "170.0 6.218626390010517\n",
      "200.0 6.205553561664964\n",
      "230.0 6.0971746509509845\n",
      "2749.0 139.86030164341804\n",
      "190.0 6.215527319186515\n",
      "240.0 6.194597290585354\n",
      "230.0 6.316387846505039\n",
      "190.0 6.369359281096886\n",
      "160.0 6.333293253216626\n",
      "140.0 6.435110543213514\n",
      "130.0 6.323737178087771\n",
      "120.0 6.036788222740511\n",
      "110.0 6.183666638325058\n",
      "110.0 6.246549614403205\n",
      "110.0 6.223851752551733\n",
      "110.0 6.115598038618827\n",
      "110.0 6.453127398422151\n",
      "120.0 6.130739968892371\n",
      "120.0 6.180283623374761\n",
      "130.0 6.028040207266844\n",
      "140.0 6.024546136445846\n",
      "160.0 6.019286838869433\n",
      "190.0 6.250816353561897\n",
      "230.0 6.293270640240702\n",
      "2759.0 139.9155919473183\n",
      "190.0 6.237326358205326\n",
      "240.0 6.10752433935545\n",
      "230.0 6.208480583692352\n",
      "190.0 6.278288187880617\n",
      "160.0 6.26223331790614\n",
      "140.0 6.3804847705368655\n",
      "130.0 6.285213735048809\n",
      "120.0 6.01201992652223\n",
      "110.0 6.170283693022174\n",
      "110.0 6.244410166519937\n",
      "110.0 6.23275093395803\n",
      "110.0 6.1358521136742645\n",
      "110.0 6.485968064827184\n",
      "120.0 6.175120078936216\n",
      "120.0 6.23818067422921\n",
      "130.0 6.098040030925901\n",
      "140.0 6.108243551681841\n",
      "160.0 6.103466932548714\n",
      "190.0 6.0261012808338865\n",
      "220.0 6.1874413716475365\n",
      "2769.0 140.10785396867746\n",
      "190.0 6.026002991122232\n",
      "230.0 6.263322077921977\n",
      "240.0 6.100193456996254\n",
      "190.0 6.186402025503427\n",
      "160.0 6.190435971115679\n",
      "140.0 6.3238788034017395\n",
      "130.0 6.244921586763659\n",
      "120.0 6.540215926153354\n",
      "120.0 6.16642564786651\n",
      "110.0 6.244108864443054\n",
      "110.0 6.236367056856312\n",
      "110.0 6.142026807588783\n",
      "110.0 6.497186039784135\n",
      "120.0 6.188895216056486\n",
      "120.0 6.255659424960801\n",
      "130.0 6.1195651343933255\n",
      "140.0 6.133293539051376\n",
      "160.0 6.127529668713801\n",
      "190.0 6.037462422921525\n",
      "220.0 6.169647008022822\n",
      "\n",
      "26235.0 26235.0\n"
     ]
    }
   ],
   "source": [
    "import numpy as np\n",
    "from astropy.coordinates import SkyCoord\n",
    "outfile = 'lunar_{0}_{1}_lunar_eclipse_v2.txt'.format(tstart.timetuple().tm_yday,tend.timetuple().tm_yday )\n",
    "\n",
    "\n",
    "\n",
    "f = open(outfile, 'r')\n",
    "times = []\n",
    "sky_pos = []\n",
    "for line in f:\n",
    "    if line.startswith('A'):\n",
    "        continue\n",
    "\n",
    "\n",
    "\n",
    "    fields = line.split()\n",
    "    this_time = datetime.strptime(fields[0], '%Y:%j:%H:%M:%S')\n",
    "\n",
    "    times = np.append(times, this_time)\n",
    "    \n",
    "    this_skypos = SkyCoord(ra=fields[1], dec=fields[2], unit ='deg')\n",
    "    sky_pos = np.append(sky_pos, this_skypos)\n",
    "    \n",
    "f.close()\n",
    "\n",
    "good_exp = 0.\n",
    "all_exp = 0.\n",
    "for ind in range(len(times)):\n",
    "    if ind == 0:\n",
    "        continue\n",
    "    dt = (times[ind] - times[ind-1]).total_seconds()\n",
    "    all_exp += dt\n",
    "#    if (dt < 200):\n",
    "#        continue\n",
    "    dr = sky_pos[ind].separation(sky_pos[ind-1]).arcmin\n",
    "    print(dt, dr)\n",
    "    good_exp += dt\n",
    "\n",
    "print()\n",
    "print(good_exp, all_exp)\n"
   ]
  },
  {
   "cell_type": "code",
   "execution_count": null,
   "metadata": {
    "collapsed": true
   },
   "outputs": [],
   "source": []
  },
  {
   "cell_type": "code",
   "execution_count": null,
   "metadata": {
    "collapsed": true
   },
   "outputs": [],
   "source": []
  }
 ],
 "metadata": {
  "anaconda-cloud": {},
  "kernelspec": {
   "display_name": "Python [default]",
   "language": "python",
   "name": "python3"
  },
  "language_info": {
   "codemirror_mode": {
    "name": "ipython",
    "version": 3
   },
   "file_extension": ".py",
   "mimetype": "text/x-python",
   "name": "python",
   "nbconvert_exporter": "python",
   "pygments_lexer": "ipython3",
   "version": "3.5.1"
  }
 },
 "nbformat": 4,
 "nbformat_minor": 2
}
