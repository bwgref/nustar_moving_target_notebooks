{
 "cells": [
  {
   "cell_type": "markdown",
   "metadata": {},
   "source": [
    "# First thing to do, make a copy of this notebook under File->Make a Copy with some intelligent naming convention.\n",
    "\n",
    "---"
   ]
  },
  {
   "cell_type": "markdown",
   "metadata": {},
   "source": [
    "# Set your observing times here.\n",
    "\n",
    "## NB: This will be a broader window that you'll actually use. The final output will give you orbit-by-orbit pointing information. So you can use a subset of the orbits that are chosen here."
   ]
  },
  {
   "cell_type": "code",
   "execution_count": 1,
   "metadata": {
    "collapsed": false
   },
   "outputs": [],
   "source": [
    "from datetime import datetime\n",
    "import numpy as np\n",
    "tstart = '2018-07-19T10:00:00'\n",
    "tend = '2018-07-20T10:00:00'\n",
    " \n",
    "# Turn these into datetime objects\n",
    "\n",
    "tstart = datetime.strptime(tstart, '%Y-%m-%dT%H:%M:%S')\n",
    "tend = datetime.strptime(tend, '%Y-%m-%dT%H:%M:%S')                "
   ]
  },
  {
   "cell_type": "markdown",
   "metadata": {},
   "source": [
    "---\n",
    "# Step 1, get the nominal RA/Dec Position for the Moon at the start.\n",
    "\n",
    "## We use this to determine what the occultation times are."
   ]
  },
  {
   "cell_type": "code",
   "execution_count": 2,
   "metadata": {
    "collapsed": false
   },
   "outputs": [
    {
     "name": "stderr",
     "output_type": "stream",
     "text": [
      "\r",
      "[#################################] 100% deltat.preds\n"
     ]
    },
    {
     "name": "stdout",
     "output_type": "stream",
     "text": [
      "../orbit_engine/lunar_200to201.sh\n"
     ]
    }
   ],
   "source": [
    "from skyfield.api import Loader\n",
    "from astropy.time import Time\n",
    "import astropy.units as u\n",
    "\n",
    "load = Loader('../../data')\n",
    "\n",
    "ts = load.timescale()\n",
    "planets = load('de436.bsp')\n",
    "\n",
    "astro_time = Time(tstart)\n",
    "t = ts.from_astropy(astro_time)\n",
    "moon, earth = planets['moon'], planets['earth']\n",
    "astrometric = earth.at(t).observe(moon)\n",
    "ra, dec, distance = astrometric.radec()\n",
    "\n",
    "\n",
    "occstring = \"./occ {0:0.4f} {1:0.4f} Latest_TLE.txt {2}:{3}:00:00:00 {4}:{5}:00:00:00 lunar_{3}_{5}.occ\".format(\n",
    "      ra.to(u.deg).value, dec.to(u.deg).value,\n",
    "      tstart.timetuple().tm_year, tstart.timetuple().tm_yday, \n",
    "      tend.timetuple().tm_year, tend.timetuple().tm_yday)\n",
    "\n",
    "\n",
    "outfile = '../orbit_engine/lunar_{0}to{1}.sh'.format(tstart.timetuple().tm_yday, tend.timetuple().tm_yday)\n",
    "print(outfile)\n",
    "\n",
    "f = open(outfile, 'w')\n",
    "f.write(occstring)\n",
    "f.close()\n",
    "\n",
    "\n",
    "import os\n",
    "import stat\n",
    "\n",
    "st = os.stat(outfile)\n",
    "os.chmod(outfile, st.st_mode | stat.S_IEXEC)\n",
    "\n"
   ]
  },
  {
   "cell_type": "markdown",
   "metadata": {},
   "source": [
    "---\n",
    "# Step 2: Go run the code that figures out the unocculted periods for the RA/Dec and the date range reported above.\n",
    "\n",
    "This works on lif. There are example shell scripts in the ../orbit_engine directory that use the version that Karl already compiled for the nuops users.\n",
    "\n",
    "First, get the latest TLE archive:\n",
    "\n",
    "`./get_latest_TLE.sh`\n",
    "\n",
    "Run the script that was produced above.\n"
   ]
  },
  {
   "cell_type": "markdown",
   "metadata": {},
   "source": [
    "# Step 3: Initialize your libraries and parse the resulting occultation file:\n"
   ]
  },
  {
   "cell_type": "code",
   "execution_count": 3,
   "metadata": {
    "collapsed": false
   },
   "outputs": [
    {
     "data": {
      "text/html": [
       "<div>\n",
       "<style>\n",
       "    .dataframe thead tr:only-child th {\n",
       "        text-align: right;\n",
       "    }\n",
       "\n",
       "    .dataframe thead th {\n",
       "        text-align: left;\n",
       "    }\n",
       "\n",
       "    .dataframe tbody tr th {\n",
       "        vertical-align: top;\n",
       "    }\n",
       "</style>\n",
       "<table border=\"1\" class=\"dataframe\">\n",
       "  <thead>\n",
       "    <tr style=\"text-align: right;\">\n",
       "      <th></th>\n",
       "      <th>visible</th>\n",
       "      <th>occulted</th>\n",
       "    </tr>\n",
       "  </thead>\n",
       "  <tbody>\n",
       "    <tr>\n",
       "      <th>0</th>\n",
       "      <td>2018-07-19 00:38:40</td>\n",
       "      <td>2018-07-19 01:34:27</td>\n",
       "    </tr>\n",
       "    <tr>\n",
       "      <th>1</th>\n",
       "      <td>2018-07-19 02:15:19</td>\n",
       "      <td>2018-07-19 03:11:06</td>\n",
       "    </tr>\n",
       "    <tr>\n",
       "      <th>2</th>\n",
       "      <td>2018-07-19 03:51:58</td>\n",
       "      <td>2018-07-19 04:47:45</td>\n",
       "    </tr>\n",
       "    <tr>\n",
       "      <th>3</th>\n",
       "      <td>2018-07-19 05:28:36</td>\n",
       "      <td>2018-07-19 06:24:23</td>\n",
       "    </tr>\n",
       "    <tr>\n",
       "      <th>4</th>\n",
       "      <td>2018-07-19 07:05:15</td>\n",
       "      <td>2018-07-19 08:01:02</td>\n",
       "    </tr>\n",
       "  </tbody>\n",
       "</table>\n",
       "</div>"
      ],
      "text/plain": [
       "               visible             occulted\n",
       "0  2018-07-19 00:38:40  2018-07-19 01:34:27\n",
       "1  2018-07-19 02:15:19  2018-07-19 03:11:06\n",
       "2  2018-07-19 03:51:58  2018-07-19 04:47:45\n",
       "3  2018-07-19 05:28:36  2018-07-19 06:24:23\n",
       "4  2018-07-19 07:05:15  2018-07-19 08:01:02"
      ]
     },
     "execution_count": 3,
     "metadata": {},
     "output_type": "execute_result"
    }
   ],
   "source": [
    "from nustar_planning import io\n",
    "occfile= \"../orbit_engine/lunar_{0}_{1}.occ\".format(tstart.timetuple().tm_yday,tend.timetuple().tm_yday )\n",
    "\n",
    "#print(occfile)\n",
    "orbits = io.parse_occ(occfile)\n",
    "\n",
    "# NB: The \"head\" command here only shows the first couple of rows. Do a \"print(orbits)\" to see them all.\n",
    "orbits.head()\n"
   ]
  },
  {
   "cell_type": "code",
   "execution_count": 4,
   "metadata": {
    "collapsed": false
   },
   "outputs": [
    {
     "data": {
      "text/plain": [
       "<module 'nustar_planning' from '/Users/bwgref/science/local/anaconda/lib/python3.5/site-packages/nustar_planning-0.2.dev73-py3.5.egg/nustar_planning/__init__.py'>"
      ]
     },
     "execution_count": 4,
     "metadata": {},
     "output_type": "execute_result"
    }
   ],
   "source": [
    "import nustar_planning\n",
    "import imp\n",
    "imp.reload(nustar_planning)\n"
   ]
  },
  {
   "cell_type": "code",
   "execution_count": 5,
   "metadata": {
    "collapsed": false
   },
   "outputs": [
    {
     "name": "stderr",
     "output_type": "stream",
     "text": [
      "[#################################] 100% deltat.preds\n",
      "[#################################] 100% deltat.preds\n"
     ]
    }
   ],
   "source": [
    "# 6 arcminutes maximum drift (default)\n",
    "\n",
    "nustar_planning.lunar_planning.position_shift(orbits[0:1], parallax_correction=True,\n",
    "               outfile='drift_test.txt',\n",
    "               dt = 5*u.s,pad_time = 5*u.min)\n"
   ]
  },
  {
   "cell_type": "code",
   "execution_count": 6,
   "metadata": {
    "collapsed": true
   },
   "outputs": [],
   "source": [
    "from astropy.coordinates import SkyCoord"
   ]
  },
  {
   "cell_type": "code",
   "execution_count": 7,
   "metadata": {
    "collapsed": false
   },
   "outputs": [],
   "source": [
    "f = open('drift_test.txt', 'r')\n",
    "times = []\n",
    "sky_pos = []\n",
    "for line in f:\n",
    "    if line.startswith('A'):\n",
    "        continue\n",
    "\n",
    "\n",
    "    fields = line.split()\n",
    "    this_time = datetime.strptime(fields[0], '%Y:%j:%H:%M:%S')\n",
    "\n",
    "    times = np.append(times, this_time)\n",
    "    \n",
    "    this_skypos = SkyCoord(ra=fields[1], dec=fields[2], unit ='deg')\n",
    "    sky_pos = np.append(sky_pos, this_skypos)\n",
    "    \n",
    "f.close()"
   ]
  },
  {
   "cell_type": "code",
   "execution_count": 8,
   "metadata": {
    "collapsed": false
   },
   "outputs": [
    {
     "name": "stdout",
     "output_type": "stream",
     "text": [
      "170.0 6.028474052785369\n",
      "335.0 6.036811039864043\n",
      "495.0 6.031551494640764\n",
      "175.0 6.044162340901583\n",
      "140.0 6.166294683204976\n",
      "125.0 6.194466513973696\n",
      "115.0 6.282517793014867\n",
      "110.0 6.224043354955086\n",
      "105.0 6.043603968896318\n",
      "100.0 6.070398058081941\n",
      "100.0 6.011902363470457\n",
      "100.0 6.15683610461505\n",
      "105.0 6.177562048651007\n",
      "110.0 6.048839328195584\n",
      "115.0 6.196804473535783\n",
      "130.0 6.127542732042249\n",
      "150.0 6.045617561125026\n",
      "195.0 6.078556337294491\n",
      "770.0 6.13454311034621\n",
      "165.0 6.01356478563543\n"
     ]
    }
   ],
   "source": [
    "good_exp = 0.\n",
    "all_exp = 0.\n",
    "for ind in range(len(times)):\n",
    "    if ind == 0:\n",
    "        continue\n",
    "    dt = (times[ind] - times[ind-1]).total_seconds()\n",
    "    dr = sky_pos[ind].separation(sky_pos[ind-1]).arcmin\n",
    "    print(dt, dr)\n",
    "    "
   ]
  },
  {
   "cell_type": "code",
   "execution_count": null,
   "metadata": {
    "collapsed": true
   },
   "outputs": [],
   "source": []
  }
 ],
 "metadata": {
  "anaconda-cloud": {},
  "kernelspec": {
   "display_name": "Python [default]",
   "language": "python",
   "name": "python3"
  },
  "language_info": {
   "codemirror_mode": {
    "name": "ipython",
    "version": 3
   },
   "file_extension": ".py",
   "mimetype": "text/x-python",
   "name": "python",
   "nbconvert_exporter": "python",
   "pygments_lexer": "ipython3",
   "version": "3.5.1"
  }
 },
 "nbformat": 4,
 "nbformat_minor": 2
}
