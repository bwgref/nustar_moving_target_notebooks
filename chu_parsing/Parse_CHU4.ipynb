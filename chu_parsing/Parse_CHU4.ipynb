{
 "cells": [
  {
   "cell_type": "code",
   "execution_count": 1,
   "metadata": {
    "collapsed": false
   },
   "outputs": [],
   "source": [
    "import os\n",
    "from astropy.io import fits\n",
    "import numpy as np\n",
    "\n",
    "\n",
    "def convert_file(file):\n",
    "\n",
    "    image = []\n",
    "\n",
    "\n",
    "\n",
    "    with open(file, \"rb\") as binary_file:\n",
    "        # Read the whole file at once\n",
    "        data = binary_file.read()\n",
    "\n",
    "        # Seek position and read N bytes\n",
    "        binary_file.seek(0)  # Go to beginning\n",
    "        # Skip over the header bytes.\n",
    "        header = binary_file.read(34)\n",
    "\n",
    "        entry = binary_file.read(1)\n",
    "        while(True):\n",
    "            if not entry:\n",
    "                break\n",
    "            cts = int.from_bytes(entry, byteorder='big')\n",
    "    #        print(cts)\n",
    "            image.extend([cts])\n",
    "            entry = binary_file.read(1)\n",
    "    #        break\n",
    "    im = np.array(image)\n",
    "    im2 = np.resize(im, [580, 752])\n",
    "    \n",
    "    outfile = os.path.splitext(file)[0] +\".fits\"\n",
    "    print(outfile)\n",
    "    \n",
    "\n",
    "\n",
    "    \n",
    "    hdu = fits.PrimaryHDU(im2)\n",
    "    hdu.writeto(outfile, overwrite=True)\n"
   ]
  },
  {
   "cell_type": "code",
   "execution_count": 3,
   "metadata": {
    "collapsed": false
   },
   "outputs": [
    {
     "name": "stdout",
     "output_type": "stream",
     "text": [
<<<<<<< HEAD
      "./m31/chu04_nustar_flight_2018_004_055200.raw\n",
      "./m31/chu04_nustar_flight_2018_004_055200.fits\n",
      "./m31/chu04_nustar_flight_2018_004_104200.raw\n",
      "./m31/chu04_nustar_flight_2018_004_104200.fits\n",
      "./m31/chu04_nustar_flight_2018_004_153200.raw\n",
      "./m31/chu04_nustar_flight_2018_004_153200.fits\n",
      "./m31/chu04_nustar_flight_2018_004_202200.raw\n",
      "./m31/chu04_nustar_flight_2018_004_202200.fits\n"
=======
      "./lunar_images/chu04_nustar_flight_2017_172_065346.raw\n",
      "./lunar_images/chu04_nustar_flight_2017_172_065346.fits\n",
      "./lunar_images/chu04_nustar_flight_2017_172_070258.raw\n",
      "./lunar_images/chu04_nustar_flight_2017_172_070258.fits\n",
      "./lunar_images/chu04_nustar_flight_2017_172_071209.raw\n",
      "./lunar_images/chu04_nustar_flight_2017_172_071209.fits\n",
      "./lunar_images/chu04_nustar_flight_2017_172_072122.raw\n",
      "./lunar_images/chu04_nustar_flight_2017_172_072122.fits\n",
      "./lunar_images/chu04_nustar_flight_2017_172_073032.raw\n",
      "./lunar_images/chu04_nustar_flight_2017_172_073032.fits\n",
      "./lunar_images/chu04_nustar_flight_2017_296_084200.raw\n",
      "./lunar_images/chu04_nustar_flight_2017_296_084200.fits\n",
      "./lunar_images/chu04_nustar_flight_2017_296_090130.raw\n",
      "./lunar_images/chu04_nustar_flight_2017_296_090130.fits\n",
      "./lunar_images/chu04_nustar_flight_2017_296_091430.raw\n",
      "./lunar_images/chu04_nustar_flight_2017_296_091430.fits\n",
      "./lunar_images/chu04_nustar_flight_2017_296_092330.raw\n",
      "./lunar_images/chu04_nustar_flight_2017_296_092330.fits\n",
      "./lunar_images/chu04_nustar_flight_2017_296_094530.raw\n",
      "./lunar_images/chu04_nustar_flight_2017_296_094530.fits\n",
      "./lunar_images/chu04_nustar_flight_2017_296_101800.raw\n",
      "./lunar_images/chu04_nustar_flight_2017_296_101800.fits\n",
      "./lunar_images/chu04_nustar_flight_2017_296_103730.raw\n",
      "./lunar_images/chu04_nustar_flight_2017_296_103730.fits\n",
      "./lunar_images/chu04_nustar_flight_2017_296_105030.raw\n",
      "./lunar_images/chu04_nustar_flight_2017_296_105030.fits\n",
      "./lunar_images/chu04_nustar_flight_2017_296_105930.raw\n",
      "./lunar_images/chu04_nustar_flight_2017_296_105930.fits\n",
      "./lunar_images/chu04_nustar_flight_2017_296_112200.raw\n",
      "./lunar_images/chu04_nustar_flight_2017_296_112200.fits\n",
      "./lunar_images/chu04_nustar_flight_2017_314_191500.raw\n",
      "./lunar_images/chu04_nustar_flight_2017_314_191500.fits\n",
      "./lunar_images/chu04_nustar_flight_2017_314_192530.raw\n",
      "./lunar_images/chu04_nustar_flight_2017_314_192530.fits\n",
      "./lunar_images/chu04_nustar_flight_2017_314_193200.raw\n",
      "./lunar_images/chu04_nustar_flight_2017_314_193200.fits\n",
      "./lunar_images/chu04_nustar_flight_2017_314_193800.raw\n",
      "./lunar_images/chu04_nustar_flight_2017_314_193800.fits\n",
      "./lunar_images/chu04_nustar_flight_2017_314_194500.raw\n",
      "./lunar_images/chu04_nustar_flight_2017_314_194500.fits\n",
      "./lunar_images/chu04_nustar_flight_2017_314_195000.raw\n",
      "./lunar_images/chu04_nustar_flight_2017_314_195000.fits\n",
      "./lunar_images/chu04_nustar_flight_2017_314_195630.raw\n",
      "./lunar_images/chu04_nustar_flight_2017_314_195630.fits\n",
      "./lunar_images/chu04_nustar_flight_2017_314_200300.raw\n",
      "./lunar_images/chu04_nustar_flight_2017_314_200300.fits\n",
      "./lunar_images/chu04_nustar_flight_2017_314_200900.raw\n",
      "./lunar_images/chu04_nustar_flight_2017_314_200900.fits\n",
      "./lunar_images/chu04_nustar_flight_2018_208_171046.raw\n",
      "./lunar_images/chu04_nustar_flight_2018_208_171046.fits\n",
      "./lunar_images/chu04_nustar_flight_2018_208_172300.raw\n",
      "./lunar_images/chu04_nustar_flight_2018_208_172300.fits\n",
      "./lunar_images/chu04_nustar_flight_2018_208_173225.raw\n",
      "./lunar_images/chu04_nustar_flight_2018_208_173225.fits\n",
      "./lunar_images/chu04_nustar_flight_2018_208_184725.raw\n",
      "./lunar_images/chu04_nustar_flight_2018_208_184725.fits\n"
>>>>>>> master
     ]
    }
   ],
   "source": [
    "import glob\n",
    "files = glob.glob('./m31/*raw')\n",
    "#files.append(*glob.glob('./*raw'))\n",
    "\n",
    "for file in files:\n",
    "    print(file)\n",
    "    convert_file(file)\n",
    "\n"
   ]
  },
  {
   "cell_type": "markdown",
   "metadata": {},
   "source": [
    "# Below is to figure out the plate scale of the CHU4 images (roughly)"
   ]
  },
  {
   "cell_type": "code",
   "execution_count": 61,
   "metadata": {
    "collapsed": false
   },
   "outputs": [
    {
     "name": "stdout",
     "output_type": "stream",
     "text": [
      "499.141502983\n",
      "236.920260847\n"
     ]
    }
   ],
   "source": [
    "# Spica\n",
    "star1x, star1y = 16.5, 31.9\n",
    "ra1 = '13:25:11'\n",
    "dec1 = '-11:09:40'\n",
    "\n",
    "\n",
    "\n",
    "# Porrima\n",
    "star2x, star2y = 516.3, 360.8\n",
    "ra2 = '12:41:39'\n",
    "dec2 = '-01:26:59'\n",
    "\n",
    "\n",
    "\n",
    "# Theta-Virgo\n",
    "star3x, star3y = 280.4, 119.6\n",
    "ra3 = '13:09:56'\n",
    "dec3 = '-05:32:20'\n",
    "\n",
    "\n",
    "dr12 = np.sqrt((star1x - star2x)**2 + (star1y - star2y)*2)\n",
    "print(dr12)\n",
    "\n",
    "dr23 = np.sqrt((star2x - star3x)**2 + (star2y - star3y)*2)\n",
    "print(dr23)\n",
    "\n",
    "\n"
   ]
  },
  {
   "cell_type": "code",
   "execution_count": 46,
   "metadata": {
    "collapsed": false
   },
   "outputs": [],
   "source": [
    "# Data taken from one of the prep-observations. Estimated difference between a couple of stars while observing Jupiter.\n",
    "\n",
    "from astropy import units as u\n",
    "from astropy.coordinates import SkyCoord\n",
    "\n",
    "\n",
    "\n",
    "c1 = SkyCoord(ra1, dec1, unit=(u.hourangle, u.deg))\n",
    "c2= SkyCoord(ra2, dec2, unit=(u.hourangle, u.deg))\n",
    "c3= SkyCoord(ra3, dec3, unit=(u.hourangle, u.deg))\n",
    "\n",
    "\n",
    "angdist12 = c1.separation(c2).deg\n",
    "angdist23 = c2.separation(c3).deg\n",
    "\n"
   ]
  },
  {
   "cell_type": "code",
   "execution_count": 63,
   "metadata": {
    "collapsed": false
   },
   "outputs": [
    {
     "name": "stdout",
     "output_type": "stream",
     "text": [
      "1.74624050501\n"
     ]
    }
   ],
   "source": [
    "plate = angdist12 / dr12\n",
    "print(plate*u.deg.to(u.arcmin)) # this is arcminutes per pixel.\n",
    "\n",
    "#plate = angdist23 / dr23\n",
    "#print(plate*u.deg.to(u.arcmin)) # this is arcminutes per pixel.\n",
    "\n"
   ]
  },
  {
   "cell_type": "code",
   "execution_count": 64,
   "metadata": {
    "collapsed": false
   },
   "outputs": [
    {
     "data": {
      "text/plain": [
       "0.029104008416757057"
      ]
     },
     "execution_count": 64,
     "metadata": {},
     "output_type": "execute_result"
    }
   ],
   "source": [
    "plate # this is degrees per pixel"
   ]
  },
  {
   "cell_type": "code",
   "execution_count": 65,
   "metadata": {
    "collapsed": false
   },
   "outputs": [
    {
     "data": {
      "text/plain": [
       "219.90098093550259"
      ]
     },
     "execution_count": 65,
     "metadata": {},
     "output_type": "execute_result"
    }
   ],
   "source": [
    "6.4 / plate"
   ]
  },
  {
   "cell_type": "code",
   "execution_count": 67,
   "metadata": {
    "collapsed": false
   },
   "outputs": [
    {
     "data": {
      "text/plain": [
       "3.68"
      ]
     },
     "execution_count": 67,
     "metadata": {},
     "output_type": "execute_result"
    }
   ],
   "source": [
    "276 * 0.26 / 19.5"
   ]
  },
  {
   "cell_type": "code",
   "execution_count": 71,
   "metadata": {
    "collapsed": false
   },
   "outputs": [
    {
     "data": {
      "text/plain": [
       "1.5"
      ]
     },
     "execution_count": 71,
     "metadata": {},
     "output_type": "execute_result"
    }
   ],
   "source": [
    "5 / (10 / 3)"
   ]
  },
  {
   "cell_type": "code",
   "execution_count": 72,
   "metadata": {
    "collapsed": false
   },
   "outputs": [
    {
     "data": {
      "text/plain": [
       "10.4"
      ]
     },
     "execution_count": 72,
     "metadata": {},
     "output_type": "execute_result"
    }
   ],
   "source": [
    "0.26 * 60 / 1.5"
   ]
  },
  {
   "cell_type": "code",
   "execution_count": null,
   "metadata": {
    "collapsed": true
   },
   "outputs": [],
   "source": []
  }
 ],
 "metadata": {
  "anaconda-cloud": {},
  "kernelspec": {
   "display_name": "Python [default]",
   "language": "python",
   "name": "python3"
  },
  "language_info": {
   "codemirror_mode": {
    "name": "ipython",
    "version": 3
   },
   "file_extension": ".py",
   "mimetype": "text/x-python",
   "name": "python",
   "nbconvert_exporter": "python",
   "pygments_lexer": "ipython3",
   "version": "3.5.1"
  }
 },
 "nbformat": 4,
 "nbformat_minor": 2
}
